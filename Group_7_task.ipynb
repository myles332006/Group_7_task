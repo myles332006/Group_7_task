{
  "nbformat": 4,
  "nbformat_minor": 0,
  "metadata": {
    "colab": {
      "provenance": []
    },
    "kernelspec": {
      "name": "python3",
      "display_name": "Python 3"
    },
    "language_info": {
      "name": "python"
    }
  },
  "cells": [
    {
      "cell_type": "markdown",
      "source": [
        "Declaring variables"
      ],
      "metadata": {
        "id": "k7TeRgwl4cdK"
      }
    },
    {
      "cell_type": "code",
      "execution_count": null,
      "metadata": {
        "colab": {
          "base_uri": "https://localhost:8080/"
        },
        "id": "gSk569-FjvNN",
        "outputId": "8680a9c6-87ff-4b77-aebd-c9b0a8aeff67"
      },
      "outputs": [
        {
          "output_type": "execute_result",
          "data": {
            "text/plain": [
              "str"
            ]
          },
          "metadata": {},
          "execution_count": 1
        }
      ],
      "source": [
        "Company_Name = \"\" #String\n",
        "Destination = \"\" #String\n",
        "Package_Pricing = 0 #Integer\n",
        "Paid = True #Boolean\n",
        "\n",
        "\n",
        "type(Company_Name)"
      ]
    },
    {
      "cell_type": "markdown",
      "source": [
        "**LIST**"
      ],
      "metadata": {
        "id": "ZGVAf-F05Zv-"
      }
    },
    {
      "cell_type": "code",
      "source": [
        "Companies= [\"Jocky Tours\", \"Axis Africa\", \"Meektrails\", \"Unscripted Safaris\", \"Apodiformes Adventures\", \"Hyrax Safaris\"]\n",
        "Companies[4]"
      ],
      "metadata": {
        "colab": {
          "base_uri": "https://localhost:8080/",
          "height": 35
        },
        "id": "sCNhha_05Q1i",
        "outputId": "57796e64-279f-4814-fb30-535fab32212a"
      },
      "execution_count": null,
      "outputs": [
        {
          "output_type": "execute_result",
          "data": {
            "text/plain": [
              "'Apodiformes Adventures'"
            ],
            "application/vnd.google.colaboratory.intrinsic+json": {
              "type": "string"
            }
          },
          "metadata": {},
          "execution_count": 2
        }
      ]
    },
    {
      "cell_type": "code",
      "source": [
        "Companies[::2]"
      ],
      "metadata": {
        "colab": {
          "base_uri": "https://localhost:8080/"
        },
        "id": "ai9Ni6wY6ap0",
        "outputId": "e8c83661-8a07-4341-e48e-b78f61890b2d"
      },
      "execution_count": null,
      "outputs": [
        {
          "output_type": "execute_result",
          "data": {
            "text/plain": [
              "['Jocky Tours', 'Meektrails', 'Apodiformes Adventures']"
            ]
          },
          "metadata": {},
          "execution_count": 6
        }
      ]
    },
    {
      "cell_type": "markdown",
      "source": [
        "**Adding a company to a list**"
      ],
      "metadata": {
        "id": "8LhU6HyD8pYE"
      }
    },
    {
      "cell_type": "code",
      "source": [
        "Companies.append(\"Beacon Safaris\")\n",
        "print(Companies)"
      ],
      "metadata": {
        "colab": {
          "base_uri": "https://localhost:8080/"
        },
        "id": "JTb7pbhn8tj2",
        "outputId": "23314ee8-bf7a-403c-913f-473e70d10b6d"
      },
      "execution_count": null,
      "outputs": [
        {
          "output_type": "stream",
          "name": "stdout",
          "text": [
            "['Jocky Tours', 'Axis Africa', 'Meektrails', 'Unscripted Safaris', 'Apodiformes Adventures', 'Hyrax Safaris', 'Beacon Safaris']\n"
          ]
        }
      ]
    },
    {
      "cell_type": "markdown",
      "source": [
        "**Removing a company from the list**"
      ],
      "metadata": {
        "id": "EQ3lVOId9M4D"
      }
    },
    {
      "cell_type": "code",
      "source": [
        "Companies.remove(\"Apodiformes Adventures\")\n",
        "print(Companies)"
      ],
      "metadata": {
        "colab": {
          "base_uri": "https://localhost:8080/"
        },
        "id": "fnU67YIk9PUd",
        "outputId": "e75b5b44-137e-41ef-e497-17b639526381"
      },
      "execution_count": null,
      "outputs": [
        {
          "output_type": "stream",
          "name": "stdout",
          "text": [
            "['Jocky Tours', 'Axis Africa', 'Meektrails', 'Unscripted Safaris', 'Hyrax Safaris', 'Beacon Safaris']\n"
          ]
        }
      ]
    },
    {
      "cell_type": "markdown",
      "source": [
        "**Tuple** - Keeps items in a fixed order\n",
        "\n",
        "Cannot be changed after it's created\n",
        "\n",
        "Allows duplicate values\n",
        "\n",
        "Can hold different data types like strings, numbers, etc."
      ],
      "metadata": {
        "id": "jkfpXnwB6_pn"
      }
    },
    {
      "cell_type": "code",
      "source": [
        "Safari_Tours_Destination = (\"masaai mara\", \"amboseli\", \"Tsavo\", \"Karura forest\", \"giraffe centre\")\n",
        "print(Safari_Tours_Destination)\n"
      ],
      "metadata": {
        "id": "uO9BFzoi8VgF",
        "colab": {
          "base_uri": "https://localhost:8080/"
        },
        "outputId": "1e79f75d-f89b-47bd-8383-d1faccfd7612"
      },
      "execution_count": null,
      "outputs": [
        {
          "output_type": "stream",
          "name": "stdout",
          "text": [
            "('masaai mara', 'amboseli', 'Tsavo', 'Karura forest', 'giraffe centre')\n"
          ]
        }
      ]
    },
    {
      "cell_type": "code",
      "source": [
        "safari_destination = (\"masaai mara\", \"amboseli\", \"karura forest\",\"tsavo\")\n",
        "print(safari_destination[0:4:3])"
      ],
      "metadata": {
        "colab": {
          "base_uri": "https://localhost:8080/"
        },
        "id": "MoR1yQAEP-Jt",
        "outputId": "646b31a9-a5a4-4d02-af6c-1c81d8fe19fe"
      },
      "execution_count": null,
      "outputs": [
        {
          "output_type": "stream",
          "name": "stdout",
          "text": [
            "('masaai mara', 'tsavo')\n"
          ]
        }
      ]
    },
    {
      "cell_type": "code",
      "source": [
        "safari_destination = (\"masaai mara\",\"amboseli\",\"tsavo\")\n",
        "print(safari_destination[0])"
      ],
      "metadata": {
        "id": "FCXVABdv7B3O",
        "colab": {
          "base_uri": "https://localhost:8080/"
        },
        "outputId": "81d3c799-bffc-4c02-c14f-8128cadf2c4a"
      },
      "execution_count": null,
      "outputs": [
        {
          "output_type": "stream",
          "name": "stdout",
          "text": [
            "masaai mara\n"
          ]
        }
      ]
    },
    {
      "cell_type": "markdown",
      "source": [
        "Sets"
      ],
      "metadata": {
        "id": "m3bMuCnlEmIv"
      }
    },
    {
      "cell_type": "code",
      "source": [
        "Mara_Animals ={\"Lion\", \"elephant\", \"Rhino\", \"Buffalo\", \"Leopard\"}\n",
        "print(Mara_Animals)"
      ],
      "metadata": {
        "id": "6Z8a9FQ1Enhm",
        "colab": {
          "base_uri": "https://localhost:8080/"
        },
        "outputId": "c4c13e2b-526d-4770-ad5f-48e3e35d06fd"
      },
      "execution_count": null,
      "outputs": [
        {
          "output_type": "stream",
          "name": "stdout",
          "text": [
            "{'Buffalo', 'elephant', 'Lion', 'Rhino', 'Leopard'}\n"
          ]
        }
      ]
    },
    {
      "cell_type": "code",
      "source": [
        "Tsavo_animals =[\"Buffalo\", \"Lion\", \"Rhino\", \"Elephant\" \"Leopard\", \"Elephant\"]\n",
        "unique_animals = set(Tsavo_animals)\n",
        "print(unique_animals) # duplicates removed\n"
      ],
      "metadata": {
        "colab": {
          "base_uri": "https://localhost:8080/"
        },
        "id": "Q03GT5RSSQVr",
        "outputId": "5851bee5-4332-44d0-9ce5-8c5faefc8ab7"
      },
      "execution_count": null,
      "outputs": [
        {
          "output_type": "stream",
          "name": "stdout",
          "text": [
            "{'Rhino', 'Lion', 'Elephant', 'Buffalo', 'ElephantLeopard'}\n"
          ]
        }
      ]
    },
    {
      "cell_type": "markdown",
      "source": [
        "Dictionaries"
      ],
      "metadata": {
        "id": "zBQor2-L93Yh"
      }
    },
    {
      "cell_type": "code",
      "source": [
        "Safari_tour_prices ={\n",
        "\"Classic Safari\":\n",
        "        {\"duration_days\": 5,\n",
        "        \"price_per_person\": 1200,\n",
        "        \"locations\": [\"Serengeti National Park\", \"Ngorongoro Crater\"],\n",
        "        \"group_size\": \"Small (4-6 people)\",\n",
        "        \"accommodation\": \"Tented Camps\",\n",
        "        \"includes\": [\"Game Drives\", \"Park Fees\", \"Meals\", \"Guide\", \"Transfers\"]\n",
        "    },\n",
        "    \"Luxury Safari\": {\n",
        "        \"duration_days\": 7,\n",
        "        \"price_per_person\": 2800,\n",
        "        \"locations\": [\"Masai Mara\", \"Lake Nakuru\", \"Amboseli\"],\n",
        "        \"group_size\": \"Private or Couples\",\n",
        "        \"accommodation\": \"Luxury Lodges\",\n",
        "        \"includes\": [\"Private Game Drives\", \"All Meals\", \"Champagne Welcome\", \"Flights between parks\", \"Professional Photographer\"]\n",
        "    },\n",
        "    \"Adventure Safari\": {\n",
        "        \"duration_days\": 6,\n",
        "        \"price_per_person\": 1500,\n",
        "        \"locations\": [\"Tarangire\", \"Lake Manyara\", \"Serengeti\"],\n",
        "        \"group_size\": \"Medium (6-10 people)\",\n",
        "        \"accommodation\": \"Mix of Lodges and Campsites\",\n",
        "        \"includes\": [\"Game Drives\", \"Hiking\", \"Cultural Visits\", \"Meals\", \"Camping Gear\"]\n",
        "    },\n",
        "    \"Budget Safari\": {\n",
        "        \"duration_days\": 4,\n",
        "        \"price_per_person\": 800,\n",
        "        \"locations\": [\"Maasai Mara\", \"Nairobi National Park\"],\n",
        "        \"group_size\": \"Large (10-20 people)\",\n",
        "        \"accommodation\": \"Budget Campsites\",\n",
        "        \"includes\": [\"Game Drives\", \"Park Fees\", \"Basic Meals\", \"Shared Guide\"]}}\n",
        "print(Safari_tour_prices)"
      ],
      "metadata": {
        "id": "48mJ8Sx6U1QH",
        "colab": {
          "base_uri": "https://localhost:8080/"
        },
        "outputId": "527aaaf6-bf42-4b06-ff4f-5b846b687cd6"
      },
      "execution_count": null,
      "outputs": [
        {
          "output_type": "stream",
          "name": "stdout",
          "text": [
            "{'Classic Safari': {'duration_days': 5, 'price_per_person': 1200, 'locations': ['Serengeti National Park', 'Ngorongoro Crater'], 'group_size': 'Small (4-6 people)', 'accommodation': 'Tented Camps', 'includes': ['Game Drives', 'Park Fees', 'Meals', 'Guide', 'Transfers']}, 'Luxury Safari': {'duration_days': 7, 'price_per_person': 2800, 'locations': ['Masai Mara', 'Lake Nakuru', 'Amboseli'], 'group_size': 'Private or Couples', 'accommodation': 'Luxury Lodges', 'includes': ['Private Game Drives', 'All Meals', 'Champagne Welcome', 'Flights between parks', 'Professional Photographer']}, 'Adventure Safari': {'duration_days': 6, 'price_per_person': 1500, 'locations': ['Tarangire', 'Lake Manyara', 'Serengeti'], 'group_size': 'Medium (6-10 people)', 'accommodation': 'Mix of Lodges and Campsites', 'includes': ['Game Drives', 'Hiking', 'Cultural Visits', 'Meals', 'Camping Gear']}, 'Budget Safari': {'duration_days': 4, 'price_per_person': 800, 'locations': ['Maasai Mara', 'Nairobi National Park'], 'group_size': 'Large (10-20 people)', 'accommodation': 'Budget Campsites', 'includes': ['Game Drives', 'Park Fees', 'Basic Meals', 'Shared Guide']}}\n"
          ]
        }
      ]
    },
    {
      "cell_type": "code",
      "source": [
        "Safari_tour_prices[\"Luxury Safari\"]"
      ],
      "metadata": {
        "colab": {
          "base_uri": "https://localhost:8080/"
        },
        "id": "Ai74fI9AyK6n",
        "outputId": "019a2f3a-190a-4c14-c4bc-b27fb41ec4ee"
      },
      "execution_count": null,
      "outputs": [
        {
          "output_type": "execute_result",
          "data": {
            "text/plain": [
              "{'duration_days': 7,\n",
              " 'price_per_person': 2800,\n",
              " 'locations': ['Masai Mara', 'Lake Nakuru', 'Amboseli'],\n",
              " 'group_size': 'Private or Couples',\n",
              " 'accommodation': 'Luxury Lodges',\n",
              " 'includes': ['Private Game Drives',\n",
              "  'All Meals',\n",
              "  'Champagne Welcome',\n",
              "  'Flights between parks',\n",
              "  'Professional Photographer']}"
            ]
          },
          "metadata": {},
          "execution_count": 2
        }
      ]
    },
    {
      "cell_type": "code",
      "source": [
        "price = 1000\n",
        "\n",
        "int(input(\"What is the price of the trip:\"))\n",
        "if price >= 1000:\n",
        "  print(\"This tour is affordable.\")\n",
        "else:\n",
        "  print(\"This tour is expensive.\")"
      ],
      "metadata": {
        "colab": {
          "base_uri": "https://localhost:8080/"
        },
        "id": "FUwQY-ZCUa8N",
        "outputId": "a22ec6b8-240e-45b3-d79c-19d6dade0f83"
      },
      "execution_count": null,
      "outputs": [
        {
          "output_type": "stream",
          "name": "stdout",
          "text": [
            "What is the price of the trip:1000\n",
            "This tour is affordable.\n"
          ]
        }
      ]
    }
  ]
}