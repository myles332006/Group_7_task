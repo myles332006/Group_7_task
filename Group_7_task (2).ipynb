{
  "nbformat": 4,
  "nbformat_minor": 0,
  "metadata": {
    "colab": {
      "provenance": []
    },
    "kernelspec": {
      "name": "python3",
      "display_name": "Python 3"
    },
    "language_info": {
      "name": "python"
    }
  },
  "cells": [
    {
      "cell_type": "markdown",
      "source": [
        "Declaring variables"
      ],
      "metadata": {
        "id": "k7TeRgwl4cdK"
      }
    },
    {
      "cell_type": "code",
      "execution_count": null,
      "metadata": {
        "colab": {
          "base_uri": "https://localhost:8080/"
        },
        "id": "gSk569-FjvNN",
        "outputId": "1a53d8b2-15bf-447d-9310-296b5b4cdb31"
      },
      "outputs": [
        {
          "output_type": "execute_result",
          "data": {
            "text/plain": [
              "str"
            ]
          },
          "metadata": {},
          "execution_count": 1
        }
      ],
      "source": [
        "Company_Name = \"\" #String\n",
        "Destination = \"\" #String\n",
        "Package_Pricing = 0 #Integer\n",
        "Paid = True #Boolean\n",
        "\n",
        "\n",
        "type(Company_Name)"
      ]
    },
    {
      "cell_type": "markdown",
      "source": [
        "**LIST**"
      ],
      "metadata": {
        "id": "ZGVAf-F05Zv-"
      }
    },
    {
      "cell_type": "code",
      "source": [
        "Companies= [\"Jocky Tours\", \"Axis Africa\", \"Meektrails\", \"Unscripted Safaris\", \"Apodiformes Adventures\", \"Hyrax Safaris\"]\n",
        "Companies[4]"
      ],
      "metadata": {
        "colab": {
          "base_uri": "https://localhost:8080/",
          "height": 36
        },
        "id": "sCNhha_05Q1i",
        "outputId": "7329a485-5f25-423f-e5e4-817e1c7f3ddb"
      },
      "execution_count": null,
      "outputs": [
        {
          "output_type": "execute_result",
          "data": {
            "text/plain": [
              "'Apodiformes Adventures'"
            ],
            "application/vnd.google.colaboratory.intrinsic+json": {
              "type": "string"
            }
          },
          "metadata": {},
          "execution_count": 2
        }
      ]
    },
    {
      "cell_type": "code",
      "source": [
        "Companies[::2]"
      ],
      "metadata": {
        "colab": {
          "base_uri": "https://localhost:8080/"
        },
        "id": "ai9Ni6wY6ap0",
        "outputId": "7fc85c45-df51-46f2-ca9a-96b0fef2c048"
      },
      "execution_count": null,
      "outputs": [
        {
          "output_type": "execute_result",
          "data": {
            "text/plain": [
              "['Jocky Tours', 'Meektrails', 'Apodiformes Adventures']"
            ]
          },
          "metadata": {},
          "execution_count": 3
        }
      ]
    },
    {
      "cell_type": "markdown",
      "source": [
        "**Adding a company to a list**"
      ],
      "metadata": {
        "id": "8LhU6HyD8pYE"
      }
    },
    {
      "cell_type": "code",
      "source": [
        "Companies.append(\"Beacon Safaris\")\n",
        "print(Companies)"
      ],
      "metadata": {
        "colab": {
          "base_uri": "https://localhost:8080/"
        },
        "id": "JTb7pbhn8tj2",
        "outputId": "2101056f-1832-40d1-c07f-f7ba57d0913c"
      },
      "execution_count": null,
      "outputs": [
        {
          "output_type": "stream",
          "name": "stdout",
          "text": [
            "['Jocky Tours', 'Axis Africa', 'Meektrails', 'Unscripted Safaris', 'Apodiformes Adventures', 'Hyrax Safaris', 'Beacon Safaris']\n"
          ]
        }
      ]
    },
    {
      "cell_type": "markdown",
      "source": [
        "**Removing a company from the list**"
      ],
      "metadata": {
        "id": "EQ3lVOId9M4D"
      }
    },
    {
      "cell_type": "code",
      "source": [
        "Companies.remove(\"Apodiformes Adventures\")\n",
        "print(Companies)"
      ],
      "metadata": {
        "colab": {
          "base_uri": "https://localhost:8080/"
        },
        "id": "fnU67YIk9PUd",
        "outputId": "918a8a6e-76d4-4862-b304-946a351e5076"
      },
      "execution_count": null,
      "outputs": [
        {
          "output_type": "stream",
          "name": "stdout",
          "text": [
            "['Jocky Tours', 'Axis Africa', 'Meektrails', 'Unscripted Safaris', 'Hyrax Safaris', 'Beacon Safaris']\n"
          ]
        }
      ]
    },
    {
      "cell_type": "markdown",
      "source": [
        "**Tuple** - Keeps items in a fixed order\n",
        "\n",
        "Cannot be changed after it's created\n",
        "\n",
        "Allows duplicate values\n",
        "\n",
        "Can hold different data types like strings, numbers, etc."
      ],
      "metadata": {
        "id": "jkfpXnwB6_pn"
      }
    },
    {
      "cell_type": "code",
      "source": [
        "Safari_Tours_Destination = (\"masaai mara\", \"amboseli\", \"Tsavo\", \"Karura forest\", \"giraffe centre\")\n",
        "print(Safari_Tours_Destination)\n"
      ],
      "metadata": {
        "id": "uO9BFzoi8VgF",
        "colab": {
          "base_uri": "https://localhost:8080/"
        },
        "outputId": "a907982b-c7b3-4284-e008-266a929c59f1"
      },
      "execution_count": null,
      "outputs": [
        {
          "output_type": "stream",
          "name": "stdout",
          "text": [
            "('masaai mara', 'amboseli', 'Tsavo', 'Karura forest', 'giraffe centre')\n"
          ]
        }
      ]
    },
    {
      "cell_type": "code",
      "source": [
        "safari_destination = (\"masaai mara\", \"amboseli\", \"karura forest\",\"tsavo\")\n",
        "print(safari_destination[0:4:3])"
      ],
      "metadata": {
        "colab": {
          "base_uri": "https://localhost:8080/"
        },
        "id": "MoR1yQAEP-Jt",
        "outputId": "7ed00bf9-6406-4a79-9564-aebc37d62dcb"
      },
      "execution_count": null,
      "outputs": [
        {
          "output_type": "stream",
          "name": "stdout",
          "text": [
            "('masaai mara', 'tsavo')\n"
          ]
        }
      ]
    },
    {
      "cell_type": "code",
      "source": [
        "safari_destination = (\"masaai mara\",\"amboseli\",\"tsavo\")\n",
        "print(safari_destination[0])"
      ],
      "metadata": {
        "id": "FCXVABdv7B3O",
        "colab": {
          "base_uri": "https://localhost:8080/"
        },
        "outputId": "a1f6589c-71a7-4941-bdf6-6aaeba6f1649"
      },
      "execution_count": null,
      "outputs": [
        {
          "output_type": "stream",
          "name": "stdout",
          "text": [
            "masaai mara\n"
          ]
        }
      ]
    },
    {
      "cell_type": "markdown",
      "source": [
        "Sets"
      ],
      "metadata": {
        "id": "m3bMuCnlEmIv"
      }
    },
    {
      "cell_type": "code",
      "source": [
        "Mara_Animals ={\"Lion\", \"elephant\", \"Rhino\", \"Buffalo\", \"Leopard\"}\n",
        "print(Mara_Animals)"
      ],
      "metadata": {
        "id": "6Z8a9FQ1Enhm",
        "colab": {
          "base_uri": "https://localhost:8080/"
        },
        "outputId": "22eefc76-e03c-420c-a933-ac0519f2a105"
      },
      "execution_count": null,
      "outputs": [
        {
          "output_type": "stream",
          "name": "stdout",
          "text": [
            "{'Buffalo', 'Rhino', 'elephant', 'Leopard', 'Lion'}\n"
          ]
        }
      ]
    },
    {
      "cell_type": "code",
      "source": [
        "Tsavo_animals =[\"Buffalo\", \"Lion\", \"Rhino\", \"Elephant\",\"Leopard\", \"Elephant\"]\n",
        "unique_animals = set(Tsavo_animals)\n",
        "print(unique_animals) # duplicates removed\n"
      ],
      "metadata": {
        "colab": {
          "base_uri": "https://localhost:8080/"
        },
        "id": "Q03GT5RSSQVr",
        "outputId": "c45ca910-9d2b-48b8-abad-74e5507bc735"
      },
      "execution_count": null,
      "outputs": [
        {
          "output_type": "stream",
          "name": "stdout",
          "text": [
            "{'Elephant', 'Lion', 'Buffalo', 'Leopard', 'Rhino'}\n"
          ]
        }
      ]
    },
    {
      "cell_type": "markdown",
      "source": [
        "Dictionaries"
      ],
      "metadata": {
        "id": "zBQor2-L93Yh"
      }
    },
    {
      "cell_type": "code",
      "source": [
        "Safari_tour_prices ={\n",
        "\"Classic Safari\":\n",
        "        {\"duration_days\": 5,\n",
        "        \"price_per_person\": 1200,\n",
        "        \"locations\": [\"Serengeti National Park\", \"Ngorongoro Crater\"],\n",
        "        \"group_size\": \"Small (4-6 people)\",\n",
        "        \"accommodation\": \"Tented Camps\",\n",
        "        \"includes\": [\"Game Drives\", \"Park Fees\", \"Meals\", \"Guide\", \"Transfers\"]\n",
        "    },\n",
        "    \"Luxury Safari\": {\n",
        "        \"duration_days\": 7,\n",
        "        \"price_per_person\": 2800,\n",
        "        \"locations\": [\"Masai Mara\", \"Lake Nakuru\", \"Amboseli\"],\n",
        "        \"group_size\": \"Private or Couples\",\n",
        "        \"accommodation\": \"Luxury Lodges\",\n",
        "        \"includes\": [\"Private Game Drives\", \"All Meals\", \"Champagne Welcome\", \"Flights between parks\", \"Professional Photographer\"]\n",
        "    },\n",
        "    \"Adventure Safari\": {\n",
        "        \"duration_days\": 6,\n",
        "        \"price_per_person\": 1500,\n",
        "        \"locations\": [\"Tarangire\", \"Lake Manyara\", \"Serengeti\"],\n",
        "        \"group_size\": \"Medium (6-10 people)\",\n",
        "        \"accommodation\": \"Mix of Lodges and Campsites\",\n",
        "        \"includes\": [\"Game Drives\", \"Hiking\", \"Cultural Visits\", \"Meals\", \"Camping Gear\"]\n",
        "    },\n",
        "    \"Budget Safari\": {\n",
        "        \"duration_days\": 4,\n",
        "        \"price_per_person\": 800,\n",
        "        \"locations\": [\"Maasai Mara\", \"Nairobi National Park\"],\n",
        "        \"group_size\": \"Large (10-20 people)\",\n",
        "        \"accommodation\": \"Budget Campsites\",\n",
        "        \"includes\": [\"Game Drives\", \"Park Fees\", \"Basic Meals\", \"Shared Guide\"]}}\n",
        "print(Safari_tour_prices)"
      ],
      "metadata": {
        "id": "48mJ8Sx6U1QH",
        "colab": {
          "base_uri": "https://localhost:8080/"
        },
        "outputId": "e1d67118-60fc-436c-9c8f-55f218da0f78"
      },
      "execution_count": null,
      "outputs": [
        {
          "output_type": "stream",
          "name": "stdout",
          "text": [
            "{'Classic Safari': {'duration_days': 5, 'price_per_person': 1200, 'locations': ['Serengeti National Park', 'Ngorongoro Crater'], 'group_size': 'Small (4-6 people)', 'accommodation': 'Tented Camps', 'includes': ['Game Drives', 'Park Fees', 'Meals', 'Guide', 'Transfers']}, 'Luxury Safari': {'duration_days': 7, 'price_per_person': 2800, 'locations': ['Masai Mara', 'Lake Nakuru', 'Amboseli'], 'group_size': 'Private or Couples', 'accommodation': 'Luxury Lodges', 'includes': ['Private Game Drives', 'All Meals', 'Champagne Welcome', 'Flights between parks', 'Professional Photographer']}, 'Adventure Safari': {'duration_days': 6, 'price_per_person': 1500, 'locations': ['Tarangire', 'Lake Manyara', 'Serengeti'], 'group_size': 'Medium (6-10 people)', 'accommodation': 'Mix of Lodges and Campsites', 'includes': ['Game Drives', 'Hiking', 'Cultural Visits', 'Meals', 'Camping Gear']}, 'Budget Safari': {'duration_days': 4, 'price_per_person': 800, 'locations': ['Maasai Mara', 'Nairobi National Park'], 'group_size': 'Large (10-20 people)', 'accommodation': 'Budget Campsites', 'includes': ['Game Drives', 'Park Fees', 'Basic Meals', 'Shared Guide']}}\n"
          ]
        }
      ]
    },
    {
      "cell_type": "code",
      "source": [
        "Safari_tour_prices[\"Luxury Safari\"]"
      ],
      "metadata": {
        "colab": {
          "base_uri": "https://localhost:8080/"
        },
        "id": "Ai74fI9AyK6n",
        "outputId": "80a6c3b5-0a5f-45a4-f1d7-accb382c5a42"
      },
      "execution_count": null,
      "outputs": [
        {
          "output_type": "execute_result",
          "data": {
            "text/plain": [
              "{'duration_days': 7,\n",
              " 'price_per_person': 2800,\n",
              " 'locations': ['Masai Mara', 'Lake Nakuru', 'Amboseli'],\n",
              " 'group_size': 'Private or Couples',\n",
              " 'accommodation': 'Luxury Lodges',\n",
              " 'includes': ['Private Game Drives',\n",
              "  'All Meals',\n",
              "  'Champagne Welcome',\n",
              "  'Flights between parks',\n",
              "  'Professional Photographer']}"
            ]
          },
          "metadata": {},
          "execution_count": 12
        }
      ]
    },
    {
      "cell_type": "code",
      "source": [
        "price= int(input(\"What is the price of the trip:\"))\n",
        "if price >= 1000:\n",
        "  print(\"This tour is affordable.\")\n",
        "else:\n",
        "  print(\"This tour is expensive.\")"
      ],
      "metadata": {
        "id": "FUwQY-ZCUa8N",
        "colab": {
          "base_uri": "https://localhost:8080/"
        },
        "outputId": "45197e9b-e724-45c1-efa6-5af7512cadd0"
      },
      "execution_count": null,
      "outputs": [
        {
          "output_type": "stream",
          "name": "stdout",
          "text": [
            "What is the price of the trip:2000\n",
            "This tour is affordable.\n"
          ]
        }
      ]
    },
    {
      "cell_type": "markdown",
      "source": [
        "**ASSIGNMENT 2**"
      ],
      "metadata": {
        "id": "vNG8rgFk67eu"
      }
    },
    {
      "cell_type": "markdown",
      "source": [
        "**DICTIONARY**"
      ],
      "metadata": {
        "id": "BXjqRygnA5rU"
      }
    },
    {
      "cell_type": "code",
      "source": [
        "safari_company = {\n",
        "    \"name\": \"seven seas\",\n",
        "    \"destinations\": {\"nakuru\": 9000, \"mara\": 5000, \"kisumu\": 3000},\n",
        "    \"vehicles\": [\"SUVs\", \"matatu\", \"tour van\"]\n",
        "}#safari_compani is a dictionary\n",
        "print(safari_company['destinations']['nakuru'])"
      ],
      "metadata": {
        "colab": {
          "base_uri": "https://localhost:8080/"
        },
        "id": "XYaXGM1w68TI",
        "outputId": "0aa9b5a5-82ae-4781-eb03-71afaa89ed34"
      },
      "execution_count": null,
      "outputs": [
        {
          "output_type": "stream",
          "name": "stdout",
          "text": [
            "9000\n"
          ]
        }
      ]
    },
    {
      "cell_type": "markdown",
      "source": [
        "**IF** **STATEMENTS**"
      ],
      "metadata": {
        "id": "uHfYAV5WAzgK"
      }
    },
    {
      "cell_type": "code",
      "source": [
        "safari_company[\"destinations\"][\"nakuru\"] #this accesses the value associated with the key \"nakuru\" within the the dictionary\n",
        "if safari_company[\"destinations\"][\"nakuru\"] < 9000: #checks if the price of \"nakuru\" is less than 90000\n",
        "                                                       #if the condition is true it is executed\n",
        "    print(\"discount available\")\n",
        "elif safari_company[\"destinations\"][\"nakuru\"] == 8900:#second condition which checks if condition is false\n",
        "    print(\"available\")\n",
        "else:\n",
        "    print(\"not available\")"
      ],
      "metadata": {
        "colab": {
          "base_uri": "https://localhost:8080/"
        },
        "outputId": "0636526c-60ac-47b3-abdf-83ebbd5570d4",
        "id": "uBFlcOxM6ZBR"
      },
      "execution_count": null,
      "outputs": [
        {
          "output_type": "stream",
          "name": "stdout",
          "text": [
            "discount available\n"
          ]
        }
      ]
    },
    {
      "cell_type": "markdown",
      "source": [
        "**FOR LOOP**"
      ],
      "metadata": {
        "id": "zfSqeYfgA9_k"
      }
    },
    {
      "cell_type": "code",
      "source": [
        "for destinations, price in safari_company[\"destinations\"].items():\n",
        "    print(destinations, price)"
      ],
      "metadata": {
        "colab": {
          "base_uri": "https://localhost:8080/"
        },
        "id": "cId_8GlxAxH-",
        "outputId": "caea46cc-ef62-4d13-c227-859a941b310d"
      },
      "execution_count": null,
      "outputs": [
        {
          "output_type": "stream",
          "name": "stdout",
          "text": [
            "nakuru 9000\n",
            "mara 5000\n",
            "kisumu 3000\n"
          ]
        }
      ]
    },
    {
      "cell_type": "markdown",
      "source": [
        "**ANOTHER FOR LOOP EXAMPLE**\n",
        "\n",
        "(A customer is searching for a particular destination that a company offers to host for vacation, this code will search for the destination that the customer wants in order to plan furthermore on the trip.)"
      ],
      "metadata": {
        "id": "XLxlI42J6pru"
      }
    },
    {
      "cell_type": "code",
      "source": [
        "Destinations = [\"Nairobi\", \"Nakuru\", \"Naivasha\", \"Mombasa\", \"Malindi\", \"Nanyuki\", \"Maasai Mara\"]\n",
        "DestinationOfChoice = input(\"Enter your destination of choice:\")\n",
        "index = 0 #Index of the list\n",
        "\n",
        "for index in Destinations:\n",
        "  print(index)\n",
        "  if DestinationOfChoice == index:\n",
        "    print(\"Destination found.\")\n",
        "  elif DestinationOfChoice != index:\n",
        "    print(\"Destination not found.\")\n",
        "\n",
        "\n",
        "\n",
        "\n",
        "\n",
        "\n",
        "\n",
        "\n"
      ],
      "metadata": {
        "colab": {
          "base_uri": "https://localhost:8080/"
        },
        "outputId": "b639b1d8-0dc0-45b3-fc2a-651ed035ac9f",
        "id": "vno7w42h61UY"
      },
      "execution_count": null,
      "outputs": [
        {
          "output_type": "stream",
          "name": "stdout",
          "text": [
            "Enter your destination of choice:Nakuru\n",
            "Nairobi\n",
            "Destination not found.\n",
            "Nakuru\n",
            "Destination found.\n",
            "Naivasha\n",
            "Destination not found.\n",
            "Mombasa\n",
            "Destination not found.\n",
            "Malindi\n",
            "Destination not found.\n",
            "Nanyuki\n",
            "Destination not found.\n",
            "Maasai Mara\n",
            "Destination not found.\n"
          ]
        }
      ]
    },
    {
      "cell_type": "markdown",
      "source": [
        "**WHILE** **LOOP**"
      ],
      "metadata": {
        "id": "oqEQzPGLL5pU"
      }
    },
    {
      "cell_type": "code",
      "source": [
        "max_bookings = 23\n",
        "bookings = 18\n",
        "while bookings < max_bookings:\n",
        "    print(bookings)\n",
        "    bookings += 1"
      ],
      "metadata": {
        "colab": {
          "base_uri": "https://localhost:8080/"
        },
        "id": "wjQifvivB1b9",
        "outputId": "ff29200b-f954-431a-8f43-edc0566318c6"
      },
      "execution_count": null,
      "outputs": [
        {
          "output_type": "stream",
          "name": "stdout",
          "text": [
            "18\n",
            "19\n",
            "20\n",
            "21\n",
            "22\n"
          ]
        }
      ]
    },
    {
      "cell_type": "markdown",
      "source": [
        "**FUNCTIONS**"
      ],
      "metadata": {
        "id": "0COGX88aMx4V"
      }
    },
    {
      "cell_type": "code",
      "source": [
        "def calculate_price(destination, number_of_bookings):#defines  the function calculate_price that takes two arguments destination and number_of_bookings\n",
        "    price_per_person = safari_company[\"destinations\"].get(destination)\n",
        "    if price_per_person is not None:#if price_per_person is not none checks if a price was found for the destination\n",
        "        return price_per_person * number_of_bookings\n",
        "    else:\n",
        "        return \"Destination not found\"\n",
        "\n",
        "price = calculate_price(\"kisumu\", 13)\n",
        "print(price)"
      ],
      "metadata": {
        "colab": {
          "base_uri": "https://localhost:8080/"
        },
        "id": "ZTpf3VVRCtGU",
        "outputId": "c1c43d31-a1ad-4f6d-a3bf-3ff7ace6a698"
      },
      "execution_count": null,
      "outputs": [
        {
          "output_type": "stream",
          "name": "stdout",
          "text": [
            "39000\n"
          ]
        }
      ]
    }
  ]
}