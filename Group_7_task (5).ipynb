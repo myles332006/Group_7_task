{
  "nbformat": 4,
  "nbformat_minor": 0,
  "metadata": {
    "colab": {
      "provenance": []
    },
    "kernelspec": {
      "name": "python3",
      "display_name": "Python 3"
    },
    "language_info": {
      "name": "python"
    }
  },
  "cells": [
    {
      "cell_type": "markdown",
      "source": [
        "Declaring variables"
      ],
      "metadata": {
        "id": "k7TeRgwl4cdK"
      }
    },
    {
      "cell_type": "code",
      "execution_count": null,
      "metadata": {
        "colab": {
          "base_uri": "https://localhost:8080/"
        },
        "id": "gSk569-FjvNN",
        "outputId": "27abd6aa-b7a9-4d69-dd4d-fa4337405bf2"
      },
      "outputs": [
        {
          "output_type": "execute_result",
          "data": {
            "text/plain": [
              "str"
            ]
          },
          "metadata": {},
          "execution_count": 2
        }
      ],
      "source": [
        "Company_Name = \"\" #String\n",
        "Destination = \"\" #String\n",
        "Package_Pricing = 0 #Integer\n",
        "Paid = True #Boolean\n",
        "\n",
        "\n",
        "type(Company_Name)"
      ]
    },
    {
      "cell_type": "markdown",
      "source": [
        "**LIST**"
      ],
      "metadata": {
        "id": "ZGVAf-F05Zv-"
      }
    },
    {
      "cell_type": "code",
      "source": [
        "Companies= [\"Jocky Tours\", \"Axis Africa\", \"Meektrails\", \"Unscripted Safaris\", \"Apodiformes Adventures\", \"Hyrax Safaris\"]\n",
        "Companies[4]"
      ],
      "metadata": {
        "colab": {
          "base_uri": "https://localhost:8080/",
          "height": 36
        },
        "id": "sCNhha_05Q1i",
        "outputId": "023155b7-cc98-45bb-8afe-63b9fab96838"
      },
      "execution_count": null,
      "outputs": [
        {
          "output_type": "execute_result",
          "data": {
            "text/plain": [
              "'Apodiformes Adventures'"
            ],
            "application/vnd.google.colaboratory.intrinsic+json": {
              "type": "string"
            }
          },
          "metadata": {},
          "execution_count": 3
        }
      ]
    },
    {
      "cell_type": "code",
      "source": [
        "Companies[::2]"
      ],
      "metadata": {
        "colab": {
          "base_uri": "https://localhost:8080/"
        },
        "id": "ai9Ni6wY6ap0",
        "outputId": "89672ded-8d97-4ae5-bd65-821af0281728"
      },
      "execution_count": null,
      "outputs": [
        {
          "output_type": "execute_result",
          "data": {
            "text/plain": [
              "['Jocky Tours', 'Meektrails', 'Apodiformes Adventures']"
            ]
          },
          "metadata": {},
          "execution_count": 4
        }
      ]
    },
    {
      "cell_type": "markdown",
      "source": [
        "**Adding a company to a list**"
      ],
      "metadata": {
        "id": "8LhU6HyD8pYE"
      }
    },
    {
      "cell_type": "code",
      "source": [
        "Companies.append(\"Beacon Safaris\")\n",
        "print(Companies)"
      ],
      "metadata": {
        "colab": {
          "base_uri": "https://localhost:8080/"
        },
        "id": "JTb7pbhn8tj2",
        "outputId": "70504019-4f71-4afd-8ea0-46e60be03d0f"
      },
      "execution_count": null,
      "outputs": [
        {
          "output_type": "stream",
          "name": "stdout",
          "text": [
            "['Jocky Tours', 'Axis Africa', 'Meektrails', 'Unscripted Safaris', 'Apodiformes Adventures', 'Hyrax Safaris', 'Beacon Safaris']\n"
          ]
        }
      ]
    },
    {
      "cell_type": "markdown",
      "source": [
        "**Removing a company from the list**"
      ],
      "metadata": {
        "id": "EQ3lVOId9M4D"
      }
    },
    {
      "cell_type": "code",
      "source": [
        "Companies.remove(\"Apodiformes Adventures\")\n",
        "print(Companies)"
      ],
      "metadata": {
        "colab": {
          "base_uri": "https://localhost:8080/"
        },
        "id": "fnU67YIk9PUd",
        "outputId": "757c84c2-178b-4c52-e0ee-056939464d93"
      },
      "execution_count": null,
      "outputs": [
        {
          "output_type": "stream",
          "name": "stdout",
          "text": [
            "['Jocky Tours', 'Axis Africa', 'Meektrails', 'Unscripted Safaris', 'Hyrax Safaris', 'Beacon Safaris']\n"
          ]
        }
      ]
    },
    {
      "cell_type": "markdown",
      "source": [
        "**Tuple** - Keeps items in a fixed order\n",
        "\n",
        "Cannot be changed after it's created\n",
        "\n",
        "Allows duplicate values\n",
        "\n",
        "Can hold different data types like strings, numbers, etc."
      ],
      "metadata": {
        "id": "jkfpXnwB6_pn"
      }
    },
    {
      "cell_type": "code",
      "source": [
        "Safari_Tours_Destination = (\"masaai mara\", \"amboseli\", \"Tsavo\", \"Karura forest\", \"giraffe centre\")\n",
        "print(Safari_Tours_Destination)\n"
      ],
      "metadata": {
        "id": "uO9BFzoi8VgF",
        "colab": {
          "base_uri": "https://localhost:8080/"
        },
        "outputId": "dbbbdb14-652d-49ff-9913-e6a14c9fc12b"
      },
      "execution_count": null,
      "outputs": [
        {
          "output_type": "stream",
          "name": "stdout",
          "text": [
            "('masaai mara', 'amboseli', 'Tsavo', 'Karura forest', 'giraffe centre')\n"
          ]
        }
      ]
    },
    {
      "cell_type": "code",
      "source": [
        "safari_destination = (\"masaai mara\", \"amboseli\", \"karura forest\",\"tsavo\")\n",
        "print(safari_destination[0:4:3])"
      ],
      "metadata": {
        "colab": {
          "base_uri": "https://localhost:8080/"
        },
        "id": "MoR1yQAEP-Jt",
        "outputId": "ed5ed209-65b7-4651-80e4-c3c8d6c36c93"
      },
      "execution_count": null,
      "outputs": [
        {
          "output_type": "stream",
          "name": "stdout",
          "text": [
            "('masaai mara', 'tsavo')\n"
          ]
        }
      ]
    },
    {
      "cell_type": "code",
      "source": [
        "safari_destination = (\"masaai mara\",\"amboseli\",\"tsavo\")\n",
        "print(safari_destination[0])"
      ],
      "metadata": {
        "id": "FCXVABdv7B3O",
        "colab": {
          "base_uri": "https://localhost:8080/"
        },
        "outputId": "46e40c05-a1ba-4e55-c60b-2b8a4dc7e5d5"
      },
      "execution_count": null,
      "outputs": [
        {
          "output_type": "stream",
          "name": "stdout",
          "text": [
            "masaai mara\n"
          ]
        }
      ]
    },
    {
      "cell_type": "markdown",
      "source": [
        "Sets"
      ],
      "metadata": {
        "id": "m3bMuCnlEmIv"
      }
    },
    {
      "cell_type": "code",
      "source": [
        "Mara_Animals ={\"Lion\", \"elephant\", \"Rhino\", \"Buffalo\", \"Leopard\"}\n",
        "print(Mara_Animals)"
      ],
      "metadata": {
        "id": "6Z8a9FQ1Enhm",
        "colab": {
          "base_uri": "https://localhost:8080/"
        },
        "outputId": "2bb2fb11-6e21-4050-aae0-5748afd6069e"
      },
      "execution_count": null,
      "outputs": [
        {
          "output_type": "stream",
          "name": "stdout",
          "text": [
            "{'Buffalo', 'Rhino', 'Lion', 'elephant', 'Leopard'}\n"
          ]
        }
      ]
    },
    {
      "cell_type": "code",
      "source": [
        "Tsavo_animals =[\"Buffalo\", \"Lion\", \"Rhino\", \"Elephant\",\"Leopard\", \"Elephant\"]\n",
        "unique_animals = set(Tsavo_animals)\n",
        "print(unique_animals) # duplicates removed\n"
      ],
      "metadata": {
        "colab": {
          "base_uri": "https://localhost:8080/"
        },
        "id": "Q03GT5RSSQVr",
        "outputId": "c80ab952-0e06-44bb-9a32-6b44d89b4a67"
      },
      "execution_count": null,
      "outputs": [
        {
          "output_type": "stream",
          "name": "stdout",
          "text": [
            "{'Buffalo', 'Lion', 'Leopard', 'Elephant', 'Rhino'}\n"
          ]
        }
      ]
    },
    {
      "cell_type": "markdown",
      "source": [
        "Dictionaries"
      ],
      "metadata": {
        "id": "zBQor2-L93Yh"
      }
    },
    {
      "cell_type": "code",
      "source": [
        "Safari_tour_prices ={\n",
        "\"Classic Safari\":\n",
        "        {\"duration_days\": 5,\n",
        "        \"price_per_person\": 1200,\n",
        "        \"locations\": [\"Serengeti National Park\", \"Ngorongoro Crater\"],\n",
        "        \"group_size\": \"Small (4-6 people)\",\n",
        "        \"accommodation\": \"Tented Camps\",\n",
        "        \"includes\": [\"Game Drives\", \"Park Fees\", \"Meals\", \"Guide\", \"Transfers\"]\n",
        "    },\n",
        "    \"Luxury Safari\": {\n",
        "        \"duration_days\": 7,\n",
        "        \"price_per_person\": 2800,\n",
        "        \"locations\": [\"Masai Mara\", \"Lake Nakuru\", \"Amboseli\"],\n",
        "        \"group_size\": \"Private or Couples\",\n",
        "        \"accommodation\": \"Luxury Lodges\",\n",
        "        \"includes\": [\"Private Game Drives\", \"All Meals\", \"Champagne Welcome\", \"Flights between parks\", \"Professional Photographer\"]\n",
        "    },\n",
        "    \"Adventure Safari\": {\n",
        "        \"duration_days\": 6,\n",
        "        \"price_per_person\": 1500,\n",
        "        \"locations\": [\"Tarangire\", \"Lake Manyara\", \"Serengeti\"],\n",
        "        \"group_size\": \"Medium (6-10 people)\",\n",
        "        \"accommodation\": \"Mix of Lodges and Campsites\",\n",
        "        \"includes\": [\"Game Drives\", \"Hiking\", \"Cultural Visits\", \"Meals\", \"Camping Gear\"]\n",
        "    },\n",
        "    \"Budget Safari\": {\n",
        "        \"duration_days\": 4,\n",
        "        \"price_per_person\": 800,\n",
        "        \"locations\": [\"Maasai Mara\", \"Nairobi National Park\"],\n",
        "        \"group_size\": \"Large (10-20 people)\",\n",
        "        \"accommodation\": \"Budget Campsites\",\n",
        "        \"includes\": [\"Game Drives\", \"Park Fees\", \"Basic Meals\", \"Shared Guide\"]}}\n",
        "print(Safari_tour_prices)"
      ],
      "metadata": {
        "id": "48mJ8Sx6U1QH",
        "colab": {
          "base_uri": "https://localhost:8080/"
        },
        "outputId": "5795daeb-4ca3-4aef-9fdd-f79ea7e8e660"
      },
      "execution_count": null,
      "outputs": [
        {
          "output_type": "stream",
          "name": "stdout",
          "text": [
            "{'Classic Safari': {'duration_days': 5, 'price_per_person': 1200, 'locations': ['Serengeti National Park', 'Ngorongoro Crater'], 'group_size': 'Small (4-6 people)', 'accommodation': 'Tented Camps', 'includes': ['Game Drives', 'Park Fees', 'Meals', 'Guide', 'Transfers']}, 'Luxury Safari': {'duration_days': 7, 'price_per_person': 2800, 'locations': ['Masai Mara', 'Lake Nakuru', 'Amboseli'], 'group_size': 'Private or Couples', 'accommodation': 'Luxury Lodges', 'includes': ['Private Game Drives', 'All Meals', 'Champagne Welcome', 'Flights between parks', 'Professional Photographer']}, 'Adventure Safari': {'duration_days': 6, 'price_per_person': 1500, 'locations': ['Tarangire', 'Lake Manyara', 'Serengeti'], 'group_size': 'Medium (6-10 people)', 'accommodation': 'Mix of Lodges and Campsites', 'includes': ['Game Drives', 'Hiking', 'Cultural Visits', 'Meals', 'Camping Gear']}, 'Budget Safari': {'duration_days': 4, 'price_per_person': 800, 'locations': ['Maasai Mara', 'Nairobi National Park'], 'group_size': 'Large (10-20 people)', 'accommodation': 'Budget Campsites', 'includes': ['Game Drives', 'Park Fees', 'Basic Meals', 'Shared Guide']}}\n"
          ]
        }
      ]
    },
    {
      "cell_type": "code",
      "source": [
        "Safari_tour_prices[\"Luxury Safari\"]"
      ],
      "metadata": {
        "colab": {
          "base_uri": "https://localhost:8080/"
        },
        "id": "Ai74fI9AyK6n",
        "outputId": "4d393a21-c9be-40ca-9aa8-9a946ad8bd42"
      },
      "execution_count": null,
      "outputs": [
        {
          "output_type": "execute_result",
          "data": {
            "text/plain": [
              "{'duration_days': 7,\n",
              " 'price_per_person': 2800,\n",
              " 'locations': ['Masai Mara', 'Lake Nakuru', 'Amboseli'],\n",
              " 'group_size': 'Private or Couples',\n",
              " 'accommodation': 'Luxury Lodges',\n",
              " 'includes': ['Private Game Drives',\n",
              "  'All Meals',\n",
              "  'Champagne Welcome',\n",
              "  'Flights between parks',\n",
              "  'Professional Photographer']}"
            ]
          },
          "metadata": {},
          "execution_count": 13
        }
      ]
    },
    {
      "cell_type": "code",
      "source": [
        "price= int(input(\"What is the price of the trip:\"))\n",
        "if price >= 1000:\n",
        "  print(\"This tour is affordable.\")\n",
        "else:\n",
        "  print(\"This tour is expensive.\")"
      ],
      "metadata": {
        "id": "FUwQY-ZCUa8N",
        "colab": {
          "base_uri": "https://localhost:8080/"
        },
        "outputId": "e3a9eeb2-ea01-4c6c-cf07-a3f971560d6a"
      },
      "execution_count": null,
      "outputs": [
        {
          "output_type": "stream",
          "name": "stdout",
          "text": [
            "What is the price of the trip:800\n",
            "This tour is expensive.\n"
          ]
        }
      ]
    },
    {
      "cell_type": "markdown",
      "source": [
        "**ASSIGNMENT 2**"
      ],
      "metadata": {
        "id": "vNG8rgFk67eu"
      }
    },
    {
      "cell_type": "markdown",
      "source": [
        "**DICTIONARY**"
      ],
      "metadata": {
        "id": "BXjqRygnA5rU"
      }
    },
    {
      "cell_type": "code",
      "source": [
        "safari_company = {\n",
        "    \"name\": \"seven seas\",\n",
        "    \"destinations\": {\"nakuru\": 9000, \"mara\": 5000, \"kisumu\": 3000},\n",
        "    \"vehicles\": [\"SUVs\", \"matatu\", \"tour van\"]\n",
        "}#safari_compani is a dictionary\n",
        "print(safari_company['destinations']['nakuru'])"
      ],
      "metadata": {
        "colab": {
          "base_uri": "https://localhost:8080/"
        },
        "id": "XYaXGM1w68TI",
        "outputId": "be2e238d-077b-4937-aeb7-d158dad4bb0e"
      },
      "execution_count": null,
      "outputs": [
        {
          "output_type": "stream",
          "name": "stdout",
          "text": [
            "9000\n"
          ]
        }
      ]
    },
    {
      "cell_type": "markdown",
      "source": [
        "**IF** **STATEMENTS**"
      ],
      "metadata": {
        "id": "uHfYAV5WAzgK"
      }
    },
    {
      "cell_type": "code",
      "source": [
        "safari_company[\"destinations\"][\"nakuru\"] #this accesses the value associated with the key \"nakuru\" within the the dictionary\n",
        "if safari_company[\"destinations\"][\"nakuru\"] < 9000: #checks if the price of \"nakuru\" is less than 90000\n",
        "                                                       #if the condition is true it is executed\n",
        "    print(\"discount available\")\n",
        "elif safari_company[\"destinations\"][\"nakuru\"] == 8900:#second condition which checks if condition is false\n",
        "    print(\"available\")\n",
        "else:\n",
        "    print(\"not available\")"
      ],
      "metadata": {
        "colab": {
          "base_uri": "https://localhost:8080/"
        },
        "outputId": "2c93d7c5-1703-4705-82fe-c2207e430363",
        "id": "uBFlcOxM6ZBR"
      },
      "execution_count": null,
      "outputs": [
        {
          "output_type": "stream",
          "name": "stdout",
          "text": [
            "not available\n"
          ]
        }
      ]
    },
    {
      "cell_type": "markdown",
      "source": [
        "**FOR LOOP**"
      ],
      "metadata": {
        "id": "zfSqeYfgA9_k"
      }
    },
    {
      "cell_type": "code",
      "source": [
        "for destinations, price in safari_company[\"destinations\"].items():\n",
        "    print(destinations, price)"
      ],
      "metadata": {
        "colab": {
          "base_uri": "https://localhost:8080/"
        },
        "id": "cId_8GlxAxH-",
        "outputId": "aee7e2d3-e6e3-42fa-fec6-6d5878e3b031"
      },
      "execution_count": null,
      "outputs": [
        {
          "output_type": "stream",
          "name": "stdout",
          "text": [
            "nakuru 9000\n",
            "mara 5000\n",
            "kisumu 3000\n"
          ]
        }
      ]
    },
    {
      "cell_type": "markdown",
      "source": [
        "**ANOTHER FOR LOOP EXAMPLE**\n",
        "\n",
        "(A customer is searching for a particular destination that a company offers to host for vacation, this code will search for the destination that the customer wants in order to plan furthermore on the trip.)"
      ],
      "metadata": {
        "id": "XLxlI42J6pru"
      }
    },
    {
      "cell_type": "code",
      "source": [
        "Destinations = [\"Nairobi\", \"Nakuru\", \"Naivasha\", \"Mombasa\", \"Malindi\", \"Nanyuki\", \"Maasai Mara\"]\n",
        "DestinationOfChoice = input(\"Enter your destination of choice:\")\n",
        "index = 0 #Index of the list\n",
        "\n",
        "for index in Destinations:\n",
        "  print(index)\n",
        "  if DestinationOfChoice == index:\n",
        "    print(\"Destination found.\")\n",
        "  elif DestinationOfChoice != index:\n",
        "    print(\"Destination not found.\")\n",
        "\n",
        "\n",
        "\n",
        "\n",
        "\n",
        "\n",
        "\n",
        "\n"
      ],
      "metadata": {
        "colab": {
          "base_uri": "https://localhost:8080/"
        },
        "outputId": "ccad169b-98a1-49fc-9696-6f17cddba1e1",
        "id": "vno7w42h61UY"
      },
      "execution_count": null,
      "outputs": [
        {
          "output_type": "stream",
          "name": "stdout",
          "text": [
            "Enter your destination of choice:nakuru\n",
            "Nairobi\n",
            "Destination not found.\n",
            "Nakuru\n",
            "Destination not found.\n",
            "Naivasha\n",
            "Destination not found.\n",
            "Mombasa\n",
            "Destination not found.\n",
            "Malindi\n",
            "Destination not found.\n",
            "Nanyuki\n",
            "Destination not found.\n",
            "Maasai Mara\n",
            "Destination not found.\n"
          ]
        }
      ]
    },
    {
      "cell_type": "markdown",
      "source": [
        "**WHILE** **LOOP**"
      ],
      "metadata": {
        "id": "oqEQzPGLL5pU"
      }
    },
    {
      "cell_type": "code",
      "source": [
        "max_bookings = 23\n",
        "bookings = 18\n",
        "while bookings < max_bookings:\n",
        "    print(bookings)\n",
        "    bookings += 1"
      ],
      "metadata": {
        "colab": {
          "base_uri": "https://localhost:8080/"
        },
        "id": "wjQifvivB1b9",
        "outputId": "a82cb6d2-82ea-4f18-fd15-ed7fb8ae7d3b"
      },
      "execution_count": null,
      "outputs": [
        {
          "output_type": "stream",
          "name": "stdout",
          "text": [
            "18\n",
            "19\n",
            "20\n",
            "21\n",
            "22\n"
          ]
        }
      ]
    },
    {
      "cell_type": "markdown",
      "source": [
        "**FUNCTIONS**"
      ],
      "metadata": {
        "id": "0COGX88aMx4V"
      }
    },
    {
      "cell_type": "code",
      "source": [
        "def calculate_price(destination, number_of_bookings):#defines  the function calculate_price that takes two arguments destination and number_of_bookings\n",
        "    price_per_person = safari_company[\"destinations\"].get(destination)\n",
        "    if price_per_person is not None:#if price_per_person is not none checks if a price was found for the destination\n",
        "        return price_per_person * number_of_bookings\n",
        "    else:\n",
        "        return \"Destination not found\"\n",
        "\n",
        "price = calculate_price(\"kisumu\", 13)\n",
        "print(price)"
      ],
      "metadata": {
        "colab": {
          "base_uri": "https://localhost:8080/"
        },
        "id": "ZTpf3VVRCtGU",
        "outputId": "317e432b-2f52-45c7-c485-3585d4a67f2d"
      },
      "execution_count": null,
      "outputs": [
        {
          "output_type": "stream",
          "name": "stdout",
          "text": [
            "39000\n"
          ]
        }
      ]
    },
    {
      "cell_type": "markdown",
      "source": [
        "**STATISTICS**"
      ],
      "metadata": {
        "id": "dUJpbQA572-e"
      }
    },
    {
      "cell_type": "markdown",
      "source": [
        "**This is the number of trips booked in each month in 2024 for Explorers Kenya Tours and Travel Limited**"
      ],
      "metadata": {
        "id": "OL-2ohl9CMeA"
      }
    },
    {
      "cell_type": "markdown",
      "source": [
        "**HISTOGRAM**"
      ],
      "metadata": {
        "id": "CUSYH831CXVq"
      }
    },
    {
      "cell_type": "code",
      "source": [
        "# January = 25\n",
        "# February = 17\n",
        "# March = 12\n",
        "# April = 27\n",
        "# May = 19\n",
        "# June = 13\n",
        "# July = 21\n",
        "# August = 35\n",
        "# September = 26\n",
        "# October = 18\n",
        "# November = 9\n",
        "# December = 50\n",
        "\n",
        "import numpy as np\n",
        "import matplotlib.pyplot as plt\n",
        "\n",
        "trips_each_month = np.array([25, 17, 12, 27, 19, 13, 21, 35, 26, 18, 9, 50])\n",
        "trips_each_month_months = np.array([\"Jan\", \"Feb\", \"Mar\", \"Apr\", \"May\", \"Jun\", \"Jul\", \"Aug\", \"Sep\", \"Oct\", \"Nov\", \"Dec\"])\n",
        "\n",
        "plt.bar(trips_each_month_months, trips_each_month)\n",
        "plt.xlabel(\"Month\")\n",
        "plt.ylabel(\"Number of Trips\")\n",
        "plt.title(\"Trips in Each Month in 2024\")\n",
        "plt.show()\n",
        "\n"
      ],
      "metadata": {
        "colab": {
          "base_uri": "https://localhost:8080/",
          "height": 472
        },
        "id": "U7YKYDK8711q",
        "outputId": "b1247cd4-ef2f-4b87-abb3-376eec28bccc"
      },
      "execution_count": null,
      "outputs": [
        {
          "output_type": "display_data",
          "data": {
            "text/plain": [
              "<Figure size 640x480 with 1 Axes>"
            ],
            "image/png": "[encoded data removed]"
          },
          "metadata": {}
        }
      ]
    },
    {
      "cell_type": "markdown",
      "source": [
        "**MEAN**"
      ],
      "metadata": {
        "id": "v3luRD3N_G5_"
      }
    },
    {
      "cell_type": "code",
      "source": [
        "Average = int(np.mean(trips_each_month))\n",
        "Average"
      ],
      "metadata": {
        "colab": {
          "base_uri": "https://localhost:8080/"
        },
        "id": "tdaHqpoN_IPl",
        "outputId": "31efab08-82a6-47d2-8f6d-62dafc1c00c5"
      },
      "execution_count": null,
      "outputs": [
        {
          "output_type": "execute_result",
          "data": {
            "text/plain": [
              "22"
            ]
          },
          "metadata": {},
          "execution_count": 22
        }
      ]
    },
    {
      "cell_type": "markdown",
      "source": [
        "**MEDIAN**"
      ],
      "metadata": {
        "id": "tlXFGOeG_V6f"
      }
    },
    {
      "cell_type": "code",
      "source": [
        "median = int(np.median(trips_each_month))\n",
        "median"
      ],
      "metadata": {
        "colab": {
          "base_uri": "https://localhost:8080/"
        },
        "id": "CiHmF41N_Xg1",
        "outputId": "7ca98305-630f-4989-93e8-0c86a8bb8282"
      },
      "execution_count": null,
      "outputs": [
        {
          "output_type": "execute_result",
          "data": {
            "text/plain": [
              "20"
            ]
          },
          "metadata": {},
          "execution_count": 23
        }
      ]
    },
    {
      "cell_type": "markdown",
      "source": [
        "**INTERQUARTILE** **RANGE**"
      ],
      "metadata": {
        "id": "9QUu7GLC_nKX"
      }
    },
    {
      "cell_type": "code",
      "source": [
        "q3 = np.percentile(trips_each_month, 75)\n",
        "q1 = np.percentile(trips_each_month, 25)\n",
        "iqr = int(q3 - q1)\n",
        "iqr"
      ],
      "metadata": {
        "colab": {
          "base_uri": "https://localhost:8080/"
        },
        "id": "XlzCvTg-_iuN",
        "outputId": "0ed5d4df-6c0b-4992-bb12-82614f99c219"
      },
      "execution_count": null,
      "outputs": [
        {
          "output_type": "execute_result",
          "data": {
            "text/plain": [
              "10"
            ]
          },
          "metadata": {},
          "execution_count": 24
        }
      ]
    },
    {
      "cell_type": "markdown",
      "source": [
        "**Now lets see how many trips were booked each month in 2023.**"
      ],
      "metadata": {
        "id": "uKCDAIrXAXx5"
      }
    },
    {
      "cell_type": "markdown",
      "source": [
        "**HISTOGRAM**"
      ],
      "metadata": {
        "id": "aUDH12vWCcTD"
      }
    },
    {
      "cell_type": "code",
      "source": [
        "# January = 29\n",
        "# February = 13\n",
        "# March = 7\n",
        "# April = 20\n",
        "# May = 25\n",
        "# June = 12\n",
        "# July = 23\n",
        "# August = 33\n",
        "# September = 23\n",
        "# October = 17\n",
        "# November = 8\n",
        "# December = 45\n",
        "\n",
        "trips_each_month_2023 = np.array([29, 13, 7, 20, 25, 12, 23, 33, 23, 17, 8, 45])\n",
        "trips_each_month_months = np.array([\"Jan\", \"Feb\", \"Mar\", \"Apr\", \"May\", \"Jun\", \"Jul\", \"Aug\", \"Sep\", \"Oct\", \"Nov\", \"Dec\"])\n",
        "\n",
        "plt.bar(trips_each_month_months, trips_each_month_2023)\n",
        "plt.xlabel(\"Month\")\n",
        "plt.ylabel(\"Number of Trips\")\n",
        "plt.title(\"Trips in Each Month in 2023\")\n",
        "plt.show()\n",
        "\n"
      ],
      "metadata": {
        "colab": {
          "base_uri": "https://localhost:8080/",
          "height": 472
        },
        "id": "c-S6BFDe-GyH",
        "outputId": "029f37a1-437c-4b9f-e90d-0298749a26de"
      },
      "execution_count": null,
      "outputs": [
        {
          "output_type": "display_data",
          "data": {
            "text/plain": [
              "<Figure size 640x480 with 1 Axes>"
            ],
            "image/png": "[encoded data removed]"
          },
          "metadata": {}
        }
      ]
    },
    {
      "cell_type": "markdown",
      "source": [
        "**MEAN**"
      ],
      "metadata": {
        "id": "C-AZshwbAgmM"
      }
    },
    {
      "cell_type": "code",
      "source": [
        "Average = int(np.mean(trips_each_month_2023))\n",
        "Average"
      ],
      "metadata": {
        "colab": {
          "base_uri": "https://localhost:8080/"
        },
        "id": "jO74qtnlAis2",
        "outputId": "6071a85a-ff59-4047-c864-a78ae695e6cd"
      },
      "execution_count": null,
      "outputs": [
        {
          "output_type": "execute_result",
          "data": {
            "text/plain": [
              "21"
            ]
          },
          "metadata": {},
          "execution_count": 26
        }
      ]
    },
    {
      "cell_type": "markdown",
      "source": [
        "**MEDIAN**"
      ],
      "metadata": {
        "id": "ztMHMSD1AnHz"
      }
    },
    {
      "cell_type": "code",
      "source": [
        "Median = int(np.median(trips_each_month_2023))\n",
        "Median"
      ],
      "metadata": {
        "colab": {
          "base_uri": "https://localhost:8080/"
        },
        "id": "KWsHIRSCApHX",
        "outputId": "ff2949e7-fc00-44b2-e953-735e921596be"
      },
      "execution_count": null,
      "outputs": [
        {
          "output_type": "execute_result",
          "data": {
            "text/plain": [
              "21"
            ]
          },
          "metadata": {},
          "execution_count": 27
        }
      ]
    },
    {
      "cell_type": "markdown",
      "source": [
        "**INTERQUARTILE RANGE**"
      ],
      "metadata": {
        "id": "hugeCOxIBFL9"
      }
    },
    {
      "cell_type": "code",
      "source": [
        "q3 = np.percentile(trips_each_month_2023, 75)\n",
        "q1 = np.percentile(trips_each_month_2023, 25)\n",
        "iqr = int(q3 - q1)\n",
        "iqr"
      ],
      "metadata": {
        "colab": {
          "base_uri": "https://localhost:8080/"
        },
        "id": "pzaeC6sFBH0y",
        "outputId": "53d99dbf-f4ee-445c-fa7d-f9d778f4a45a"
      },
      "execution_count": null,
      "outputs": [
        {
          "output_type": "execute_result",
          "data": {
            "text/plain": [
              "13"
            ]
          },
          "metadata": {},
          "execution_count": 28
        }
      ]
    },
    {
      "cell_type": "markdown",
      "source": [
        "**Lets compare the two years using a Box and whisker** **plot**"
      ],
      "metadata": {
        "id": "8Yq6xbYY-wzv"
      }
    },
    {
      "cell_type": "code",
      "source": [
        "plt.boxplot([trips_each_month, trips_each_month_2023])\n",
        "plt.xticks([1, 2], [\"2024\", \"2023\"])"
      ],
      "metadata": {
        "colab": {
          "base_uri": "https://localhost:8080/",
          "height": 482
        },
        "id": "s3qe3VOM-3MG",
        "outputId": "a0e8184d-360f-4f98-9f41-a32c1eca1c0f"
      },
      "execution_count": null,
      "outputs": [
        {
          "output_type": "execute_result",
          "data": {
            "text/plain": [
              "([<matplotlib.axis.XTick at 0x7ee0d843c550>,\n",
              "  <matplotlib.axis.XTick at 0x7ee0d843be10>],\n",
              " [Text(1, 0, '2024'), Text(2, 0, '2023')])"
            ]
          },
          "metadata": {},
          "execution_count": 29
        },
        {
          "output_type": "display_data",
          "data": {
            "text/plain": [
              "<Figure size 640x480 with 1 Axes>"
            ],
            "image/png": "[encoded data removed]"
          },
          "metadata": {}
        }
      ]
    },
    {
      "cell_type": "markdown",
      "source": [
        "**Covariance Matrixes**"
      ],
      "metadata": {
        "id": "1WFG4bl-Bzxq"
      }
    },
    {
      "cell_type": "code",
      "source": [
        "cov_matrix = np.cov(trips_each_month, trips_each_month_2023)\n",
        "cov_matrix"
      ],
      "metadata": {
        "colab": {
          "base_uri": "https://localhost:8080/"
        },
        "id": "86rjJMcrB0i7",
        "outputId": "0bdd7b48-ef9b-4a59-9c54-8121e95e1475"
      },
      "execution_count": null,
      "outputs": [
        {
          "output_type": "execute_result",
          "data": {
            "text/plain": [
              "array([[127.15151515, 116.81818182],\n",
              "       [116.81818182, 121.29545455]])"
            ]
          },
          "metadata": {},
          "execution_count": 30
        }
      ]
    },
    {
      "cell_type": "markdown",
      "source": [
        "**Correlations**"
      ],
      "metadata": {
        "id": "48W-ipamDEl0"
      }
    },
    {
      "cell_type": "code",
      "source": [
        "corr = np.corrcoef(trips_each_month, trips_each_month_2023)\n",
        "corr"
      ],
      "metadata": {
        "colab": {
          "base_uri": "https://localhost:8080/"
        },
        "id": "ugQwdiykDGiv",
        "outputId": "edc9744d-04ff-4625-891e-01a42642aee1"
      },
      "execution_count": null,
      "outputs": [
        {
          "output_type": "execute_result",
          "data": {
            "text/plain": [
              "array([[1.        , 0.94064859],\n",
              "       [0.94064859, 1.        ]])"
            ]
          },
          "metadata": {},
          "execution_count": 31
        }
      ]
    },
    {
      "cell_type": "code",
      "source": [
        "import pandas as pd\n",
        "\n",
        "# Read the uploaded excel into a DataFrame\n",
        "df = pd.read_excel(\"safari_tour_packages.xlsx\")\n",
        "df.head()"
      ],
      "metadata": {
        "id": "7TMHLx98LkD3",
        "colab": {
          "base_uri": "https://localhost:8080/",
          "height": 339
        },
        "outputId": "2e26b78d-726a-43a1-c037-11303c9a1120"
      },
      "execution_count": null,
      "outputs": [
        {
          "output_type": "error",
          "ename": "FileNotFoundError",
          "evalue": "[Errno 2] No such file or directory: 'safari_tour_packages.xlsx'",
          "traceback": [
            "\u001b[0;31m---------------------------------------------------------------------------\u001b[0m",
            "\u001b[0;31mFileNotFoundError\u001b[0m                         Traceback (most recent call last)",
            "\u001b[0;32m/tmp/ipython-input-32-913011734.py\u001b[0m in \u001b[0;36m<cell line: 0>\u001b[0;34m()\u001b[0m\n\u001b[1;32m      2\u001b[0m \u001b[0;34m\u001b[0m\u001b[0m\n\u001b[1;32m      3\u001b[0m \u001b[0;31m# Read the uploaded excel into a DataFrame\u001b[0m\u001b[0;34m\u001b[0m\u001b[0;34m\u001b[0m\u001b[0m\n\u001b[0;32m----> 4\u001b[0;31m \u001b[0mdf\u001b[0m \u001b[0;34m=\u001b[0m \u001b[0mpd\u001b[0m\u001b[0;34m.\u001b[0m\u001b[0mread_excel\u001b[0m\u001b[0;34m(\u001b[0m\u001b[0;34m\"safari_tour_packages.xlsx\"\u001b[0m\u001b[0;34m)\u001b[0m\u001b[0;34m\u001b[0m\u001b[0;34m\u001b[0m\u001b[0m\n\u001b[0m\u001b[1;32m      5\u001b[0m \u001b[0mdf\u001b[0m\u001b[0;34m.\u001b[0m\u001b[0mhead\u001b[0m\u001b[0;34m(\u001b[0m\u001b[0;34m)\u001b[0m\u001b[0;34m\u001b[0m\u001b[0;34m\u001b[0m\u001b[0m\n",
            "\u001b[0;32m/usr/local/lib/python3.11/dist-packages/pandas/io/excel/_base.py\u001b[0m in \u001b[0;36mread_excel\u001b[0;34m(io, sheet_name, header, names, index_col, usecols, dtype, engine, converters, true_values, false_values, skiprows, nrows, na_values, keep_default_na, na_filter, verbose, parse_dates, date_parser, date_format, thousands, decimal, comment, skipfooter, storage_options, dtype_backend, engine_kwargs)\u001b[0m\n\u001b[1;32m    493\u001b[0m     \u001b[0;32mif\u001b[0m \u001b[0;32mnot\u001b[0m \u001b[0misinstance\u001b[0m\u001b[0;34m(\u001b[0m\u001b[0mio\u001b[0m\u001b[0;34m,\u001b[0m \u001b[0mExcelFile\u001b[0m\u001b[0;34m)\u001b[0m\u001b[0;34m:\u001b[0m\u001b[0;34m\u001b[0m\u001b[0;34m\u001b[0m\u001b[0m\n\u001b[1;32m    494\u001b[0m         \u001b[0mshould_close\u001b[0m \u001b[0;34m=\u001b[0m \u001b[0;32mTrue\u001b[0m\u001b[0;34m\u001b[0m\u001b[0;34m\u001b[0m\u001b[0m\n\u001b[0;32m--> 495\u001b[0;31m         io = ExcelFile(\n\u001b[0m\u001b[1;32m    496\u001b[0m             \u001b[0mio\u001b[0m\u001b[0;34m,\u001b[0m\u001b[0;34m\u001b[0m\u001b[0;34m\u001b[0m\u001b[0m\n\u001b[1;32m    497\u001b[0m             \u001b[0mstorage_options\u001b[0m\u001b[0;34m=\u001b[0m\u001b[0mstorage_options\u001b[0m\u001b[0;34m,\u001b[0m\u001b[0;34m\u001b[0m\u001b[0;34m\u001b[0m\u001b[0m\n",
            "\u001b[0;32m/usr/local/lib/python3.11/dist-packages/pandas/io/excel/_base.py\u001b[0m in \u001b[0;36m__init__\u001b[0;34m(self, path_or_buffer, engine, storage_options, engine_kwargs)\u001b[0m\n\u001b[1;32m   1548\u001b[0m                 \u001b[0mext\u001b[0m \u001b[0;34m=\u001b[0m \u001b[0;34m\"xls\"\u001b[0m\u001b[0;34m\u001b[0m\u001b[0;34m\u001b[0m\u001b[0m\n\u001b[1;32m   1549\u001b[0m             \u001b[0;32melse\u001b[0m\u001b[0;34m:\u001b[0m\u001b[0;34m\u001b[0m\u001b[0;34m\u001b[0m\u001b[0m\n\u001b[0;32m-> 1550\u001b[0;31m                 ext = inspect_excel_format(\n\u001b[0m\u001b[1;32m   1551\u001b[0m                     \u001b[0mcontent_or_path\u001b[0m\u001b[0;34m=\u001b[0m\u001b[0mpath_or_buffer\u001b[0m\u001b[0;34m,\u001b[0m \u001b[0mstorage_options\u001b[0m\u001b[0;34m=\u001b[0m\u001b[0mstorage_options\u001b[0m\u001b[0;34m\u001b[0m\u001b[0;34m\u001b[0m\u001b[0m\n\u001b[1;32m   1552\u001b[0m                 )\n",
            "\u001b[0;32m/usr/local/lib/python3.11/dist-packages/pandas/io/excel/_base.py\u001b[0m in \u001b[0;36minspect_excel_format\u001b[0;34m(content_or_path, storage_options)\u001b[0m\n\u001b[1;32m   1400\u001b[0m         \u001b[0mcontent_or_path\u001b[0m \u001b[0;34m=\u001b[0m \u001b[0mBytesIO\u001b[0m\u001b[0;34m(\u001b[0m\u001b[0mcontent_or_path\u001b[0m\u001b[0;34m)\u001b[0m\u001b[0;34m\u001b[0m\u001b[0;34m\u001b[0m\u001b[0m\n\u001b[1;32m   1401\u001b[0m \u001b[0;34m\u001b[0m\u001b[0m\n\u001b[0;32m-> 1402\u001b[0;31m     with get_handle(\n\u001b[0m\u001b[1;32m   1403\u001b[0m         \u001b[0mcontent_or_path\u001b[0m\u001b[0;34m,\u001b[0m \u001b[0;34m\"rb\"\u001b[0m\u001b[0;34m,\u001b[0m \u001b[0mstorage_options\u001b[0m\u001b[0;34m=\u001b[0m\u001b[0mstorage_options\u001b[0m\u001b[0;34m,\u001b[0m \u001b[0mis_text\u001b[0m\u001b[0;34m=\u001b[0m\u001b[0;32mFalse\u001b[0m\u001b[0;34m\u001b[0m\u001b[0;34m\u001b[0m\u001b[0m\n\u001b[1;32m   1404\u001b[0m     ) as handle:\n",
            "\u001b[0;32m/usr/local/lib/python3.11/dist-packages/pandas/io/common.py\u001b[0m in \u001b[0;36mget_handle\u001b[0;34m(path_or_buf, mode, encoding, compression, memory_map, is_text, errors, storage_options)\u001b[0m\n\u001b[1;32m    880\u001b[0m         \u001b[0;32melse\u001b[0m\u001b[0;34m:\u001b[0m\u001b[0;34m\u001b[0m\u001b[0;34m\u001b[0m\u001b[0m\n\u001b[1;32m    881\u001b[0m             \u001b[0;31m# Binary mode\u001b[0m\u001b[0;34m\u001b[0m\u001b[0;34m\u001b[0m\u001b[0m\n\u001b[0;32m--> 882\u001b[0;31m             \u001b[0mhandle\u001b[0m \u001b[0;34m=\u001b[0m \u001b[0mopen\u001b[0m\u001b[0;34m(\u001b[0m\u001b[0mhandle\u001b[0m\u001b[0;34m,\u001b[0m \u001b[0mioargs\u001b[0m\u001b[0;34m.\u001b[0m\u001b[0mmode\u001b[0m\u001b[0;34m)\u001b[0m\u001b[0;34m\u001b[0m\u001b[0;34m\u001b[0m\u001b[0m\n\u001b[0m\u001b[1;32m    883\u001b[0m         \u001b[0mhandles\u001b[0m\u001b[0;34m.\u001b[0m\u001b[0mappend\u001b[0m\u001b[0;34m(\u001b[0m\u001b[0mhandle\u001b[0m\u001b[0;34m)\u001b[0m\u001b[0;34m\u001b[0m\u001b[0;34m\u001b[0m\u001b[0m\n\u001b[1;32m    884\u001b[0m \u001b[0;34m\u001b[0m\u001b[0m\n",
            "\u001b[0;31mFileNotFoundError\u001b[0m: [Errno 2] No such file or directory: 'safari_tour_packages.xlsx'"
          ]
        }
      ]
    },
    {
      "cell_type": "code",
      "source": [
        "df = pd.read_csv(\"/content/turnstile_180901.txt\")\n",
        "df.tail(10)"
      ],
      "metadata": {
        "id": "4BAl8FZapVxG",
        "colab": {
          "base_uri": "https://localhost:8080/",
          "height": 363
        },
        "outputId": "164106b3-84df-42de-f604-d209f516a764"
      },
      "execution_count": null,
      "outputs": [
        {
          "output_type": "execute_result",
          "data": {
            "text/plain": [
              "          C/A  UNIT       SCP        STATION LINENAME DIVISION        DATE  \\\n",
              "197615  TRAM2  R469  00-05-01  RIT-ROOSEVELT        R      RIT  08/30/2018   \n",
              "197616  TRAM2  R469  00-05-01  RIT-ROOSEVELT        R      RIT  08/30/2018   \n",
              "197617  TRAM2  R469  00-05-01  RIT-ROOSEVELT        R      RIT  08/30/2018   \n",
              "197618  TRAM2  R469  00-05-01  RIT-ROOSEVELT        R      RIT  08/30/2018   \n",
              "197619  TRAM2  R469  00-05-01  RIT-ROOSEVELT        R      RIT  08/31/2018   \n",
              "197620  TRAM2  R469  00-05-01  RIT-ROOSEVELT        R      RIT  08/31/2018   \n",
              "197621  TRAM2  R469  00-05-01  RIT-ROOSEVELT        R      RIT  08/31/2018   \n",
              "197622  TRAM2  R469  00-05-01  RIT-ROOSEVELT        R      RIT  08/31/2018   \n",
              "197623  TRAM2  R469  00-05-01  RIT-ROOSEVELT        R      RIT  08/31/2018   \n",
              "197624  TRAM2  R469  00-05-01  RIT-ROOSEVELT        R      RIT  08/31/2018   \n",
              "\n",
              "            TIME     DESC  ENTRIES  \\\n",
              "197615  09:00:00  REGULAR     5554   \n",
              "197616  13:00:00  REGULAR     5554   \n",
              "197617  17:00:00  REGULAR     5554   \n",
              "197618  21:00:00  REGULAR     5554   \n",
              "197619  01:00:00  REGULAR     5554   \n",
              "197620  05:00:00  REGULAR     5554   \n",
              "197621  09:00:00  REGULAR     5554   \n",
              "197622  13:00:00  REGULAR     5554   \n",
              "197623  17:00:00  REGULAR     5554   \n",
              "197624  21:00:00  REGULAR     5554   \n",
              "\n",
              "        EXITS                                                                 \n",
              "197615                                                348                     \n",
              "197616                                                348                     \n",
              "197617                                                348                     \n",
              "197618                                                348                     \n",
              "197619                                                348                     \n",
              "197620                                                348                     \n",
              "197621                                                348                     \n",
              "197622                                                348                     \n",
              "197623                                                348                     \n",
              "197624                                                348                     "
            ],
            "text/html": [
              "\n",
              "  <div id=\"df-c6b1493a-d385-4e14-b0bc-caa928315272\" class=\"colab-df-container\">\n",
              "    <div>\n",
              "<style scoped>\n",
              "    .dataframe tbody tr th:only-of-type {\n",
              "        vertical-align: middle;\n",
              "    }\n",
              "\n",
              "    .dataframe tbody tr th {\n",
              "        vertical-align: top;\n",
              "    }\n",
              "\n",
              "    .dataframe thead th {\n",
              "        text-align: right;\n",
              "    }\n",
              "</style>\n",
              "<table border=\"1\" class=\"dataframe\">\n",
              "  <thead>\n",
              "    <tr style=\"text-align: right;\">\n",
              "      <th></th>\n",
              "      <th>C/A</th>\n",
              "      <th>UNIT</th>\n",
              "      <th>SCP</th>\n",
              "      <th>STATION</th>\n",
              "      <th>LINENAME</th>\n",
              "      <th>DIVISION</th>\n",
              "      <th>DATE</th>\n",
              "      <th>TIME</th>\n",
              "      <th>DESC</th>\n",
              "      <th>ENTRIES</th>\n",
              "      <th>EXITS</th>\n",
              "    </tr>\n",
              "  </thead>\n",
              "  <tbody>\n",
              "    <tr>\n",
              "      <th>197615</th>\n",
              "      <td>TRAM2</td>\n",
              "      <td>R469</td>\n",
              "      <td>00-05-01</td>\n",
              "      <td>RIT-ROOSEVELT</td>\n",
              "      <td>R</td>\n",
              "      <td>RIT</td>\n",
              "      <td>08/30/2018</td>\n",
              "      <td>09:00:00</td>\n",
              "      <td>REGULAR</td>\n",
              "      <td>5554</td>\n",
              "      <td>348</td>\n",
              "    </tr>\n",
              "    <tr>\n",
              "      <th>197616</th>\n",
              "      <td>TRAM2</td>\n",
              "      <td>R469</td>\n",
              "      <td>00-05-01</td>\n",
              "      <td>RIT-ROOSEVELT</td>\n",
              "      <td>R</td>\n",
              "      <td>RIT</td>\n",
              "      <td>08/30/2018</td>\n",
              "      <td>13:00:00</td>\n",
              "      <td>REGULAR</td>\n",
              "      <td>5554</td>\n",
              "      <td>348</td>\n",
              "    </tr>\n",
              "    <tr>\n",
              "      <th>197617</th>\n",
              "      <td>TRAM2</td>\n",
              "      <td>R469</td>\n",
              "      <td>00-05-01</td>\n",
              "      <td>RIT-ROOSEVELT</td>\n",
              "      <td>R</td>\n",
              "      <td>RIT</td>\n",
              "      <td>08/30/2018</td>\n",
              "      <td>17:00:00</td>\n",
              "      <td>REGULAR</td>\n",
              "      <td>5554</td>\n",
              "      <td>348</td>\n",
              "    </tr>\n",
              "    <tr>\n",
              "      <th>197618</th>\n",
              "      <td>TRAM2</td>\n",
              "      <td>R469</td>\n",
              "      <td>00-05-01</td>\n",
              "      <td>RIT-ROOSEVELT</td>\n",
              "      <td>R</td>\n",
              "      <td>RIT</td>\n",
              "      <td>08/30/2018</td>\n",
              "      <td>21:00:00</td>\n",
              "      <td>REGULAR</td>\n",
              "      <td>5554</td>\n",
              "      <td>348</td>\n",
              "    </tr>\n",
              "    <tr>\n",
              "      <th>197619</th>\n",
              "      <td>TRAM2</td>\n",
              "      <td>R469</td>\n",
              "      <td>00-05-01</td>\n",
              "      <td>RIT-ROOSEVELT</td>\n",
              "      <td>R</td>\n",
              "      <td>RIT</td>\n",
              "      <td>08/31/2018</td>\n",
              "      <td>01:00:00</td>\n",
              "      <td>REGULAR</td>\n",
              "      <td>5554</td>\n",
              "      <td>348</td>\n",
              "    </tr>\n",
              "    <tr>\n",
              "      <th>197620</th>\n",
              "      <td>TRAM2</td>\n",
              "      <td>R469</td>\n",
              "      <td>00-05-01</td>\n",
              "      <td>RIT-ROOSEVELT</td>\n",
              "      <td>R</td>\n",
              "      <td>RIT</td>\n",
              "      <td>08/31/2018</td>\n",
              "      <td>05:00:00</td>\n",
              "      <td>REGULAR</td>\n",
              "      <td>5554</td>\n",
              "      <td>348</td>\n",
              "    </tr>\n",
              "    <tr>\n",
              "      <th>197621</th>\n",
              "      <td>TRAM2</td>\n",
              "      <td>R469</td>\n",
              "      <td>00-05-01</td>\n",
              "      <td>RIT-ROOSEVELT</td>\n",
              "      <td>R</td>\n",
              "      <td>RIT</td>\n",
              "      <td>08/31/2018</td>\n",
              "      <td>09:00:00</td>\n",
              "      <td>REGULAR</td>\n",
              "      <td>5554</td>\n",
              "      <td>348</td>\n",
              "    </tr>\n",
              "    <tr>\n",
              "      <th>197622</th>\n",
              "      <td>TRAM2</td>\n",
              "      <td>R469</td>\n",
              "      <td>00-05-01</td>\n",
              "      <td>RIT-ROOSEVELT</td>\n",
              "      <td>R</td>\n",
              "      <td>RIT</td>\n",
              "      <td>08/31/2018</td>\n",
              "      <td>13:00:00</td>\n",
              "      <td>REGULAR</td>\n",
              "      <td>5554</td>\n",
              "      <td>348</td>\n",
              "    </tr>\n",
              "    <tr>\n",
              "      <th>197623</th>\n",
              "      <td>TRAM2</td>\n",
              "      <td>R469</td>\n",
              "      <td>00-05-01</td>\n",
              "      <td>RIT-ROOSEVELT</td>\n",
              "      <td>R</td>\n",
              "      <td>RIT</td>\n",
              "      <td>08/31/2018</td>\n",
              "      <td>17:00:00</td>\n",
              "      <td>REGULAR</td>\n",
              "      <td>5554</td>\n",
              "      <td>348</td>\n",
              "    </tr>\n",
              "    <tr>\n",
              "      <th>197624</th>\n",
              "      <td>TRAM2</td>\n",
              "      <td>R469</td>\n",
              "      <td>00-05-01</td>\n",
              "      <td>RIT-ROOSEVELT</td>\n",
              "      <td>R</td>\n",
              "      <td>RIT</td>\n",
              "      <td>08/31/2018</td>\n",
              "      <td>21:00:00</td>\n",
              "      <td>REGULAR</td>\n",
              "      <td>5554</td>\n",
              "      <td>348</td>\n",
              "    </tr>\n",
              "  </tbody>\n",
              "</table>\n",
              "</div>\n",
              "    <div class=\"colab-df-buttons\">\n",
              "\n",
              "  <div class=\"colab-df-container\">\n",
              "    <button class=\"colab-df-convert\" onclick=\"convertToInteractive('df-c6b1493a-d385-4e14-b0bc-caa928315272')\"\n",
              "            title=\"Convert this dataframe to an interactive table.\"\n",
              "            style=\"display:none;\">\n",
              "\n",
              "  <svg xmlns=\"http://www.w3.org/2000/svg\" height=\"24px\" viewBox=\"0 -960 960 960\">\n",
              "    <path d=\"M120-120v-720h720v720H120Zm60-500h600v-160H180v160Zm220 220h160v-160H400v160Zm0 220h160v-160H400v160ZM180-400h160v-160H180v160Zm440 0h160v-160H620v160ZM180-180h160v-160H180v160Zm440 0h160v-160H620v160Z\"/>\n",
              "  </svg>\n",
              "    </button>\n",
              "\n",
              "  <style>\n",
              "    .colab-df-container {\n",
              "      display:flex;\n",
              "      gap: 12px;\n",
              "    }\n",
              "\n",
              "    .colab-df-convert {\n",
              "      background-color: #E8F0FE;\n",
              "      border: none;\n",
              "      border-radius: 50%;\n",
              "      cursor: pointer;\n",
              "      display: none;\n",
              "      fill: #1967D2;\n",
              "      height: 32px;\n",
              "      padding: 0 0 0 0;\n",
              "      width: 32px;\n",
              "    }\n",
              "\n",
              "    .colab-df-convert:hover {\n",
              "      background-color: #E2EBFA;\n",
              "      box-shadow: 0px 1px 2px rgba(60, 64, 67, 0.3), 0px 1px 3px 1px rgba(60, 64, 67, 0.15);\n",
              "      fill: #174EA6;\n",
              "    }\n",
              "\n",
              "    .colab-df-buttons div {\n",
              "      margin-bottom: 4px;\n",
              "    }\n",
              "\n",
              "    [theme=dark] .colab-df-convert {\n",
              "      background-color: #3B4455;\n",
              "      fill: #D2E3FC;\n",
              "    }\n",
              "\n",
              "    [theme=dark] .colab-df-convert:hover {\n",
              "      background-color: #434B5C;\n",
              "      box-shadow: 0px 1px 3px 1px rgba(0, 0, 0, 0.15);\n",
              "      filter: drop-shadow(0px 1px 2px rgba(0, 0, 0, 0.3));\n",
              "      fill: #FFFFFF;\n",
              "    }\n",
              "  </style>\n",
              "\n",
              "    <script>\n",
              "      const buttonEl =\n",
              "        document.querySelector('#df-c6b1493a-d385-4e14-b0bc-caa928315272 button.colab-df-convert');\n",
              "      buttonEl.style.display =\n",
              "        google.colab.kernel.accessAllowed ? 'block' : 'none';\n",
              "\n",
              "      async function convertToInteractive(key) {\n",
              "        const element = document.querySelector('#df-c6b1493a-d385-4e14-b0bc-caa928315272');\n",
              "        const dataTable =\n",
              "          await google.colab.kernel.invokeFunction('convertToInteractive',\n",
              "                                                    [key], {});\n",
              "        if (!dataTable) return;\n",
              "\n",
              "        const docLinkHtml = 'Like what you see? Visit the ' +\n",
              "          '<a target=\"_blank\" href=https://colab.research.google.com/notebooks/data_table.ipynb>data table notebook</a>'\n",
              "          + ' to learn more about interactive tables.';\n",
              "        element.innerHTML = '';\n",
              "        dataTable['output_type'] = 'display_data';\n",
              "        await google.colab.output.renderOutput(dataTable, element);\n",
              "        const docLink = document.createElement('div');\n",
              "        docLink.innerHTML = docLinkHtml;\n",
              "        element.appendChild(docLink);\n",
              "      }\n",
              "    </script>\n",
              "  </div>\n",
              "\n",
              "\n",
              "    <div id=\"df-08189cf7-fbe8-4cd0-bceb-5a856d518caa\">\n",
              "      <button class=\"colab-df-quickchart\" onclick=\"quickchart('df-08189cf7-fbe8-4cd0-bceb-5a856d518caa')\"\n",
              "                title=\"Suggest charts\"\n",
              "                style=\"display:none;\">\n",
              "\n",
              "<svg xmlns=\"http://www.w3.org/2000/svg\" height=\"24px\"viewBox=\"0 0 24 24\"\n",
              "     width=\"24px\">\n",
              "    <g>\n",
              "        <path d=\"M19 3H5c-1.1 0-2 .9-2 2v14c0 1.1.9 2 2 2h14c1.1 0 2-.9 2-2V5c0-1.1-.9-2-2-2zM9 17H7v-7h2v7zm4 0h-2V7h2v10zm4 0h-2v-4h2v4z\"/>\n",
              "    </g>\n",
              "</svg>\n",
              "      </button>\n",
              "\n",
              "<style>\n",
              "  .colab-df-quickchart {\n",
              "      --bg-color: #E8F0FE;\n",
              "      --fill-color: #1967D2;\n",
              "      --hover-bg-color: #E2EBFA;\n",
              "      --hover-fill-color: #174EA6;\n",
              "      --disabled-fill-color: #AAA;\n",
              "      --disabled-bg-color: #DDD;\n",
              "  }\n",
              "\n",
              "  [theme=dark] .colab-df-quickchart {\n",
              "      --bg-color: #3B4455;\n",
              "      --fill-color: #D2E3FC;\n",
              "      --hover-bg-color: #434B5C;\n",
              "      --hover-fill-color: #FFFFFF;\n",
              "      --disabled-bg-color: #3B4455;\n",
              "      --disabled-fill-color: #666;\n",
              "  }\n",
              "\n",
              "  .colab-df-quickchart {\n",
              "    background-color: var(--bg-color);\n",
              "    border: none;\n",
              "    border-radius: 50%;\n",
              "    cursor: pointer;\n",
              "    display: none;\n",
              "    fill: var(--fill-color);\n",
              "    height: 32px;\n",
              "    padding: 0;\n",
              "    width: 32px;\n",
              "  }\n",
              "\n",
              "  .colab-df-quickchart:hover {\n",
              "    background-color: var(--hover-bg-color);\n",
              "    box-shadow: 0 1px 2px rgba(60, 64, 67, 0.3), 0 1px 3px 1px rgba(60, 64, 67, 0.15);\n",
              "    fill: var(--button-hover-fill-color);\n",
              "  }\n",
              "\n",
              "  .colab-df-quickchart-complete:disabled,\n",
              "  .colab-df-quickchart-complete:disabled:hover {\n",
              "    background-color: var(--disabled-bg-color);\n",
              "    fill: var(--disabled-fill-color);\n",
              "    box-shadow: none;\n",
              "  }\n",
              "\n",
              "  .colab-df-spinner {\n",
              "    border: 2px solid var(--fill-color);\n",
              "    border-color: transparent;\n",
              "    border-bottom-color: var(--fill-color);\n",
              "    animation:\n",
              "      spin 1s steps(1) infinite;\n",
              "  }\n",
              "\n",
              "  @keyframes spin {\n",
              "    0% {\n",
              "      border-color: transparent;\n",
              "      border-bottom-color: var(--fill-color);\n",
              "      border-left-color: var(--fill-color);\n",
              "    }\n",
              "    20% {\n",
              "      border-color: transparent;\n",
              "      border-left-color: var(--fill-color);\n",
              "      border-top-color: var(--fill-color);\n",
              "    }\n",
              "    30% {\n",
              "      border-color: transparent;\n",
              "      border-left-color: var(--fill-color);\n",
              "      border-top-color: var(--fill-color);\n",
              "      border-right-color: var(--fill-color);\n",
              "    }\n",
              "    40% {\n",
              "      border-color: transparent;\n",
              "      border-right-color: var(--fill-color);\n",
              "      border-top-color: var(--fill-color);\n",
              "    }\n",
              "    60% {\n",
              "      border-color: transparent;\n",
              "      border-right-color: var(--fill-color);\n",
              "    }\n",
              "    80% {\n",
              "      border-color: transparent;\n",
              "      border-right-color: var(--fill-color);\n",
              "      border-bottom-color: var(--fill-color);\n",
              "    }\n",
              "    90% {\n",
              "      border-color: transparent;\n",
              "      border-bottom-color: var(--fill-color);\n",
              "    }\n",
              "  }\n",
              "</style>\n",
              "\n",
              "      <script>\n",
              "        async function quickchart(key) {\n",
              "          const quickchartButtonEl =\n",
              "            document.querySelector('#' + key + ' button');\n",
              "          quickchartButtonEl.disabled = true;  // To prevent multiple clicks.\n",
              "          quickchartButtonEl.classList.add('colab-df-spinner');\n",
              "          try {\n",
              "            const charts = await google.colab.kernel.invokeFunction(\n",
              "                'suggestCharts', [key], {});\n",
              "          } catch (error) {\n",
              "            console.error('Error during call to suggestCharts:', error);\n",
              "          }\n",
              "          quickchartButtonEl.classList.remove('colab-df-spinner');\n",
              "          quickchartButtonEl.classList.add('colab-df-quickchart-complete');\n",
              "        }\n",
              "        (() => {\n",
              "          let quickchartButtonEl =\n",
              "            document.querySelector('#df-08189cf7-fbe8-4cd0-bceb-5a856d518caa button');\n",
              "          quickchartButtonEl.style.display =\n",
              "            google.colab.kernel.accessAllowed ? 'block' : 'none';\n",
              "        })();\n",
              "      </script>\n",
              "    </div>\n",
              "\n",
              "    </div>\n",
              "  </div>\n"
            ],
            "application/vnd.google.colaboratory.intrinsic+json": {
              "type": "dataframe",
              "repr_error": "0"
            }
          },
          "metadata": {},
          "execution_count": 38
        }
      ]
    },
    {
      "cell_type": "code",
      "source": [
        "import csv\n",
        "\n",
        "with open(\"/content/turnstile_180901.txt\") as f:\n",
        "  reader = csv.DictReader(f)\n",
        "  data = list(reader)\n",
        "for index in range(5):\n",
        "  print(data[index])"
      ],
      "metadata": {
        "id": "hsssmh7-9gPr",
        "colab": {
          "base_uri": "https://localhost:8080/"
        },
        "outputId": "e93696fb-be66-4e0f-bdc2-d326a719b241"
      },
      "execution_count": null,
      "outputs": [
        {
          "output_type": "stream",
          "name": "stdout",
          "text": [
            "{'C/A': 'A002', 'UNIT': 'R051', 'SCP': '02-00-00', 'STATION': '59 ST', 'LINENAME': 'NQR456W', 'DIVISION': 'BMT', 'DATE': '08/25/2018', 'TIME': '00:00:00', 'DESC': 'REGULAR', 'ENTRIES': '0006736067', 'EXITS                                                               ': '0002283184                                            '}\n",
            "{'C/A': 'A002', 'UNIT': 'R051', 'SCP': '02-00-00', 'STATION': '59 ST', 'LINENAME': 'NQR456W', 'DIVISION': 'BMT', 'DATE': '08/25/2018', 'TIME': '04:00:00', 'DESC': 'REGULAR', 'ENTRIES': '0006736087', 'EXITS                                                               ': '0002283188                                            '}\n",
            "{'C/A': 'A002', 'UNIT': 'R051', 'SCP': '02-00-00', 'STATION': '59 ST', 'LINENAME': 'NQR456W', 'DIVISION': 'BMT', 'DATE': '08/25/2018', 'TIME': '08:00:00', 'DESC': 'REGULAR', 'ENTRIES': '0006736105', 'EXITS                                                               ': '0002283229                                            '}\n",
            "{'C/A': 'A002', 'UNIT': 'R051', 'SCP': '02-00-00', 'STATION': '59 ST', 'LINENAME': 'NQR456W', 'DIVISION': 'BMT', 'DATE': '08/25/2018', 'TIME': '12:00:00', 'DESC': 'REGULAR', 'ENTRIES': '0006736180', 'EXITS                                                               ': '0002283314                                            '}\n",
            "{'C/A': 'A002', 'UNIT': 'R051', 'SCP': '02-00-00', 'STATION': '59 ST', 'LINENAME': 'NQR456W', 'DIVISION': 'BMT', 'DATE': '08/25/2018', 'TIME': '16:00:00', 'DESC': 'REGULAR', 'ENTRIES': '0006736349', 'EXITS                                                               ': '0002283384                                            '}\n"
          ]
        }
      ]
    },
    {
      "cell_type": "code",
      "source": [
        "#acsessing 3rd row\n",
        "data[2]"
      ],
      "metadata": {
        "colab": {
          "base_uri": "https://localhost:8080/"
        },
        "id": "dq0vywK6J_iq",
        "outputId": "2777785b-f5e8-49b5-e77e-520c7b4acead"
      },
      "execution_count": null,
      "outputs": [
        {
          "output_type": "execute_result",
          "data": {
            "text/plain": [
              "{'C/A': 'A002',\n",
              " 'UNIT': 'R051',\n",
              " 'SCP': '02-00-00',\n",
              " 'STATION': '59 ST',\n",
              " 'LINENAME': 'NQR456W',\n",
              " 'DIVISION': 'BMT',\n",
              " 'DATE': '08/25/2018',\n",
              " 'TIME': '08:00:00',\n",
              " 'DESC': 'REGULAR',\n",
              " 'ENTRIES': '0006736105',\n",
              " 'EXITS                                                               ': '0002283229                                            '}"
            ]
          },
          "metadata": {},
          "execution_count": 41
        }
      ]
    },
    {
      "cell_type": "code",
      "source": [
        "df[\"TIME\"][-20:]"
      ],
      "metadata": {
        "colab": {
          "base_uri": "https://localhost:8080/",
          "height": 711
        },
        "id": "aeFZ5Oy7KcNj",
        "outputId": "89078f65-9a5a-445b-e2ac-9f2c8cfbc25c"
      },
      "execution_count": null,
      "outputs": [
        {
          "output_type": "execute_result",
          "data": {
            "text/plain": [
              "197605    17:00:00\n",
              "197606    21:00:00\n",
              "197607    01:00:00\n",
              "197608    05:00:00\n",
              "197609    09:00:00\n",
              "197610    13:00:00\n",
              "197611    17:00:00\n",
              "197612    21:00:00\n",
              "197613    01:00:00\n",
              "197614    05:00:00\n",
              "197615    09:00:00\n",
              "197616    13:00:00\n",
              "197617    17:00:00\n",
              "197618    21:00:00\n",
              "197619    01:00:00\n",
              "197620    05:00:00\n",
              "197621    09:00:00\n",
              "197622    13:00:00\n",
              "197623    17:00:00\n",
              "197624    21:00:00\n",
              "Name: TIME, dtype: object"
            ],
            "text/html": [
              "<div>\n",
              "<style scoped>\n",
              "    .dataframe tbody tr th:only-of-type {\n",
              "        vertical-align: middle;\n",
              "    }\n",
              "\n",
              "    .dataframe tbody tr th {\n",
              "        vertical-align: top;\n",
              "    }\n",
              "\n",
              "    .dataframe thead th {\n",
              "        text-align: right;\n",
              "    }\n",
              "</style>\n",
              "<table border=\"1\" class=\"dataframe\">\n",
              "  <thead>\n",
              "    <tr style=\"text-align: right;\">\n",
              "      <th></th>\n",
              "      <th>TIME</th>\n",
              "    </tr>\n",
              "  </thead>\n",
              "  <tbody>\n",
              "    <tr>\n",
              "      <th>197605</th>\n",
              "      <td>17:00:00</td>\n",
              "    </tr>\n",
              "    <tr>\n",
              "      <th>197606</th>\n",
              "      <td>21:00:00</td>\n",
              "    </tr>\n",
              "    <tr>\n",
              "      <th>197607</th>\n",
              "      <td>01:00:00</td>\n",
              "    </tr>\n",
              "    <tr>\n",
              "      <th>197608</th>\n",
              "      <td>05:00:00</td>\n",
              "    </tr>\n",
              "    <tr>\n",
              "      <th>197609</th>\n",
              "      <td>09:00:00</td>\n",
              "    </tr>\n",
              "    <tr>\n",
              "      <th>197610</th>\n",
              "      <td>13:00:00</td>\n",
              "    </tr>\n",
              "    <tr>\n",
              "      <th>197611</th>\n",
              "      <td>17:00:00</td>\n",
              "    </tr>\n",
              "    <tr>\n",
              "      <th>197612</th>\n",
              "      <td>21:00:00</td>\n",
              "    </tr>\n",
              "    <tr>\n",
              "      <th>197613</th>\n",
              "      <td>01:00:00</td>\n",
              "    </tr>\n",
              "    <tr>\n",
              "      <th>197614</th>\n",
              "      <td>05:00:00</td>\n",
              "    </tr>\n",
              "    <tr>\n",
              "      <th>197615</th>\n",
              "      <td>09:00:00</td>\n",
              "    </tr>\n",
              "    <tr>\n",
              "      <th>197616</th>\n",
              "      <td>13:00:00</td>\n",
              "    </tr>\n",
              "    <tr>\n",
              "      <th>197617</th>\n",
              "      <td>17:00:00</td>\n",
              "    </tr>\n",
              "    <tr>\n",
              "      <th>197618</th>\n",
              "      <td>21:00:00</td>\n",
              "    </tr>\n",
              "    <tr>\n",
              "      <th>197619</th>\n",
              "      <td>01:00:00</td>\n",
              "    </tr>\n",
              "    <tr>\n",
              "      <th>197620</th>\n",
              "      <td>05:00:00</td>\n",
              "    </tr>\n",
              "    <tr>\n",
              "      <th>197621</th>\n",
              "      <td>09:00:00</td>\n",
              "    </tr>\n",
              "    <tr>\n",
              "      <th>197622</th>\n",
              "      <td>13:00:00</td>\n",
              "    </tr>\n",
              "    <tr>\n",
              "      <th>197623</th>\n",
              "      <td>17:00:00</td>\n",
              "    </tr>\n",
              "    <tr>\n",
              "      <th>197624</th>\n",
              "      <td>21:00:00</td>\n",
              "    </tr>\n",
              "  </tbody>\n",
              "</table>\n",
              "</div><br><label><b>dtype:</b> object</label>"
            ]
          },
          "metadata": {},
          "execution_count": 53
        }
      ]
    },
    {
      "cell_type": "code",
      "source": [
        "df.iloc[2]"
      ],
      "metadata": {
        "colab": {
          "base_uri": "https://localhost:8080/",
          "height": 429
        },
        "id": "IaO8VnLUK_Sy",
        "outputId": "7f455ff6-7252-4d9d-9374-25187bbfface"
      },
      "execution_count": null,
      "outputs": [
        {
          "output_type": "execute_result",
          "data": {
            "text/plain": [
              "C/A                                                                           A002\n",
              "UNIT                                                                          R051\n",
              "SCP                                                                       02-00-00\n",
              "STATION                                                                      59 ST\n",
              "LINENAME                                                                   NQR456W\n",
              "DIVISION                                                                       BMT\n",
              "DATE                                                                    08/25/2018\n",
              "TIME                                                                      08:00:00\n",
              "DESC                                                                       REGULAR\n",
              "ENTRIES                                                                    6736105\n",
              "EXITS                                                                      2283229\n",
              "Name: 2, dtype: object"
            ],
            "text/html": [
              "<div>\n",
              "<style scoped>\n",
              "    .dataframe tbody tr th:only-of-type {\n",
              "        vertical-align: middle;\n",
              "    }\n",
              "\n",
              "    .dataframe tbody tr th {\n",
              "        vertical-align: top;\n",
              "    }\n",
              "\n",
              "    .dataframe thead th {\n",
              "        text-align: right;\n",
              "    }\n",
              "</style>\n",
              "<table border=\"1\" class=\"dataframe\">\n",
              "  <thead>\n",
              "    <tr style=\"text-align: right;\">\n",
              "      <th></th>\n",
              "      <th>2</th>\n",
              "    </tr>\n",
              "  </thead>\n",
              "  <tbody>\n",
              "    <tr>\n",
              "      <th>C/A</th>\n",
              "      <td>A002</td>\n",
              "    </tr>\n",
              "    <tr>\n",
              "      <th>UNIT</th>\n",
              "      <td>R051</td>\n",
              "    </tr>\n",
              "    <tr>\n",
              "      <th>SCP</th>\n",
              "      <td>02-00-00</td>\n",
              "    </tr>\n",
              "    <tr>\n",
              "      <th>STATION</th>\n",
              "      <td>59 ST</td>\n",
              "    </tr>\n",
              "    <tr>\n",
              "      <th>LINENAME</th>\n",
              "      <td>NQR456W</td>\n",
              "    </tr>\n",
              "    <tr>\n",
              "      <th>DIVISION</th>\n",
              "      <td>BMT</td>\n",
              "    </tr>\n",
              "    <tr>\n",
              "      <th>DATE</th>\n",
              "      <td>08/25/2018</td>\n",
              "    </tr>\n",
              "    <tr>\n",
              "      <th>TIME</th>\n",
              "      <td>08:00:00</td>\n",
              "    </tr>\n",
              "    <tr>\n",
              "      <th>DESC</th>\n",
              "      <td>REGULAR</td>\n",
              "    </tr>\n",
              "    <tr>\n",
              "      <th>ENTRIES</th>\n",
              "      <td>6736105</td>\n",
              "    </tr>\n",
              "    <tr>\n",
              "      <th>EXITS</th>\n",
              "      <td>2283229</td>\n",
              "    </tr>\n",
              "  </tbody>\n",
              "</table>\n",
              "</div><br><label><b>dtype:</b> object</label>"
            ]
          },
          "metadata": {},
          "execution_count": 46
        }
      ]
    },
    {
      "cell_type": "code",
      "source": [
        "df[\"TIME\"]"
      ],
      "metadata": {
        "colab": {
          "base_uri": "https://localhost:8080/",
          "height": 458
        },
        "id": "_AMBpiyfP0Vw",
        "outputId": "cb2dc9bb-cc51-4c21-9d33-40d4f9e7728e"
      },
      "execution_count": null,
      "outputs": [
        {
          "output_type": "execute_result",
          "data": {
            "text/plain": [
              "0         00:00:00\n",
              "1         04:00:00\n",
              "2         08:00:00\n",
              "3         12:00:00\n",
              "4         16:00:00\n",
              "            ...   \n",
              "197620    05:00:00\n",
              "197621    09:00:00\n",
              "197622    13:00:00\n",
              "197623    17:00:00\n",
              "197624    21:00:00\n",
              "Name: TIME, Length: 197625, dtype: object"
            ],
            "text/html": [
              "<div>\n",
              "<style scoped>\n",
              "    .dataframe tbody tr th:only-of-type {\n",
              "        vertical-align: middle;\n",
              "    }\n",
              "\n",
              "    .dataframe tbody tr th {\n",
              "        vertical-align: top;\n",
              "    }\n",
              "\n",
              "    .dataframe thead th {\n",
              "        text-align: right;\n",
              "    }\n",
              "</style>\n",
              "<table border=\"1\" class=\"dataframe\">\n",
              "  <thead>\n",
              "    <tr style=\"text-align: right;\">\n",
              "      <th></th>\n",
              "      <th>TIME</th>\n",
              "    </tr>\n",
              "  </thead>\n",
              "  <tbody>\n",
              "    <tr>\n",
              "      <th>0</th>\n",
              "      <td>00:00:00</td>\n",
              "    </tr>\n",
              "    <tr>\n",
              "      <th>1</th>\n",
              "      <td>04:00:00</td>\n",
              "    </tr>\n",
              "    <tr>\n",
              "      <th>2</th>\n",
              "      <td>08:00:00</td>\n",
              "    </tr>\n",
              "    <tr>\n",
              "      <th>3</th>\n",
              "      <td>12:00:00</td>\n",
              "    </tr>\n",
              "    <tr>\n",
              "      <th>4</th>\n",
              "      <td>16:00:00</td>\n",
              "    </tr>\n",
              "    <tr>\n",
              "      <th>...</th>\n",
              "      <td>...</td>\n",
              "    </tr>\n",
              "    <tr>\n",
              "      <th>197620</th>\n",
              "      <td>05:00:00</td>\n",
              "    </tr>\n",
              "    <tr>\n",
              "      <th>197621</th>\n",
              "      <td>09:00:00</td>\n",
              "    </tr>\n",
              "    <tr>\n",
              "      <th>197622</th>\n",
              "      <td>13:00:00</td>\n",
              "    </tr>\n",
              "    <tr>\n",
              "      <th>197623</th>\n",
              "      <td>17:00:00</td>\n",
              "    </tr>\n",
              "    <tr>\n",
              "      <th>197624</th>\n",
              "      <td>21:00:00</td>\n",
              "    </tr>\n",
              "  </tbody>\n",
              "</table>\n",
              "<p>197625 rows × 1 columns</p>\n",
              "</div><br><label><b>dtype:</b> object</label>"
            ]
          },
          "metadata": {},
          "execution_count": 59
        }
      ]
    },
    {
      "cell_type": "markdown",
      "source": [
        "**DATA VISUALIZATION**"
      ],
      "metadata": {
        "id": "ZK7LZBV7MkvQ"
      }
    },
    {
      "cell_type": "code",
      "source": [
        "import pandas as pd\n",
        "\n",
        "\n",
        "df = pd.read_excel(\"safari_tour_packages (1).xlsx\")\n",
        "df"
      ],
      "metadata": {
        "id": "vmPQi7Q-vqmA",
        "colab": {
          "base_uri": "https://localhost:8080/",
          "height": 574
        },
        "outputId": "ddc34a07-f9d2-495f-bb92-479722979264"
      },
      "execution_count": null,
      "outputs": [
        {
          "output_type": "execute_result",
          "data": {
            "text/plain": [
              "            Tour name               Destination        Accomodation Transport  \\\n",
              "0       Mystic Safari  Nairobi NP,Mamba Village        Spring Hotel     Train   \n",
              "1      Untamed Safari               Maasai Mara          Blue Lodge     Plane   \n",
              "2      Radiant Safari        Tsavo East Reserve             Camping     Plane   \n",
              "3      Starlit Safari        Tsavo West Reserve             Camping     Plane   \n",
              "4  Serendipity Safari               Diani Beach  Diani Reef Reserve    Cruise   \n",
              "5      Artisan Safari           Amboseli Ranges      Kickback Lodge  Tour Van   \n",
              "6       Nature Safari     Ol Pejeta Conservancy             Camping  Tour Van   \n",
              "7  Renaissance Safari                Samburu NP          Well Lodge     Train   \n",
              "8  Happy Hippo Safari             Lake Naivasha        Palace Hotel  Tour Van   \n",
              "\n",
              "                                      Includes  Cost(KSH)  People  \\\n",
              "0                    Photography,  Game drives      10000      10   \n",
              "1  Game drives, Meals, Park fees,Private Guide      15000       5   \n",
              "2    Game drives, Private Guide, All-inclusive      15000       3   \n",
              "3    Culture lessons, Meals, Family activities      12000       6   \n",
              "4              Snorkeling, Diving, Beach walks      13500       9   \n",
              "5                                       Hiking      11000      11   \n",
              "6                    Game drive, Guide, Meals       14000       7   \n",
              "7                    Game drives,Private Guide       9000       3   \n",
              "8                    Fishing,Hippo interaction       8000       4   \n",
              "\n",
              "   Price per Person  \n",
              "0              1000  \n",
              "1              3000  \n",
              "2              5000  \n",
              "3              2000  \n",
              "4              1500  \n",
              "5              1000  \n",
              "6              2000  \n",
              "7              3000  \n",
              "8              2000  "
            ],
            "text/html": [
              "\n",
              "  <div id=\"df-14a68f4f-6563-471d-9699-3cc67cb22ac1\" class=\"colab-df-container\">\n",
              "    <div>\n",
              "<style scoped>\n",
              "    .dataframe tbody tr th:only-of-type {\n",
              "        vertical-align: middle;\n",
              "    }\n",
              "\n",
              "    .dataframe tbody tr th {\n",
              "        vertical-align: top;\n",
              "    }\n",
              "\n",
              "    .dataframe thead th {\n",
              "        text-align: right;\n",
              "    }\n",
              "</style>\n",
              "<table border=\"1\" class=\"dataframe\">\n",
              "  <thead>\n",
              "    <tr style=\"text-align: right;\">\n",
              "      <th></th>\n",
              "      <th>Tour name</th>\n",
              "      <th>Destination</th>\n",
              "      <th>Accomodation</th>\n",
              "      <th>Transport</th>\n",
              "      <th>Includes</th>\n",
              "      <th>Cost(KSH)</th>\n",
              "      <th>People</th>\n",
              "      <th>Price per Person</th>\n",
              "    </tr>\n",
              "  </thead>\n",
              "  <tbody>\n",
              "    <tr>\n",
              "      <th>0</th>\n",
              "      <td>Mystic Safari</td>\n",
              "      <td>Nairobi NP,Mamba Village</td>\n",
              "      <td>Spring Hotel</td>\n",
              "      <td>Train</td>\n",
              "      <td>Photography,  Game drives</td>\n",
              "      <td>10000</td>\n",
              "      <td>10</td>\n",
              "      <td>1000</td>\n",
              "    </tr>\n",
              "    <tr>\n",
              "      <th>1</th>\n",
              "      <td>Untamed Safari</td>\n",
              "      <td>Maasai Mara</td>\n",
              "      <td>Blue Lodge</td>\n",
              "      <td>Plane</td>\n",
              "      <td>Game drives, Meals, Park fees,Private Guide</td>\n",
              "      <td>15000</td>\n",
              "      <td>5</td>\n",
              "      <td>3000</td>\n",
              "    </tr>\n",
              "    <tr>\n",
              "      <th>2</th>\n",
              "      <td>Radiant Safari</td>\n",
              "      <td>Tsavo East Reserve</td>\n",
              "      <td>Camping</td>\n",
              "      <td>Plane</td>\n",
              "      <td>Game drives, Private Guide, All-inclusive</td>\n",
              "      <td>15000</td>\n",
              "      <td>3</td>\n",
              "      <td>5000</td>\n",
              "    </tr>\n",
              "    <tr>\n",
              "      <th>3</th>\n",
              "      <td>Starlit Safari</td>\n",
              "      <td>Tsavo West Reserve</td>\n",
              "      <td>Camping</td>\n",
              "      <td>Plane</td>\n",
              "      <td>Culture lessons, Meals, Family activities</td>\n",
              "      <td>12000</td>\n",
              "      <td>6</td>\n",
              "      <td>2000</td>\n",
              "    </tr>\n",
              "    <tr>\n",
              "      <th>4</th>\n",
              "      <td>Serendipity Safari</td>\n",
              "      <td>Diani Beach</td>\n",
              "      <td>Diani Reef Reserve</td>\n",
              "      <td>Cruise</td>\n",
              "      <td>Snorkeling, Diving, Beach walks</td>\n",
              "      <td>13500</td>\n",
              "      <td>9</td>\n",
              "      <td>1500</td>\n",
              "    </tr>\n",
              "    <tr>\n",
              "      <th>5</th>\n",
              "      <td>Artisan Safari</td>\n",
              "      <td>Amboseli Ranges</td>\n",
              "      <td>Kickback Lodge</td>\n",
              "      <td>Tour Van</td>\n",
              "      <td>Hiking</td>\n",
              "      <td>11000</td>\n",
              "      <td>11</td>\n",
              "      <td>1000</td>\n",
              "    </tr>\n",
              "    <tr>\n",
              "      <th>6</th>\n",
              "      <td>Nature Safari</td>\n",
              "      <td>Ol Pejeta Conservancy</td>\n",
              "      <td>Camping</td>\n",
              "      <td>Tour Van</td>\n",
              "      <td>Game drive, Guide, Meals</td>\n",
              "      <td>14000</td>\n",
              "      <td>7</td>\n",
              "      <td>2000</td>\n",
              "    </tr>\n",
              "    <tr>\n",
              "      <th>7</th>\n",
              "      <td>Renaissance Safari</td>\n",
              "      <td>Samburu NP</td>\n",
              "      <td>Well Lodge</td>\n",
              "      <td>Train</td>\n",
              "      <td>Game drives,Private Guide</td>\n",
              "      <td>9000</td>\n",
              "      <td>3</td>\n",
              "      <td>3000</td>\n",
              "    </tr>\n",
              "    <tr>\n",
              "      <th>8</th>\n",
              "      <td>Happy Hippo Safari</td>\n",
              "      <td>Lake Naivasha</td>\n",
              "      <td>Palace Hotel</td>\n",
              "      <td>Tour Van</td>\n",
              "      <td>Fishing,Hippo interaction</td>\n",
              "      <td>8000</td>\n",
              "      <td>4</td>\n",
              "      <td>2000</td>\n",
              "    </tr>\n",
              "  </tbody>\n",
              "</table>\n",
              "</div>\n",
              "    <div class=\"colab-df-buttons\">\n",
              "\n",
              "  <div class=\"colab-df-container\">\n",
              "    <button class=\"colab-df-convert\" onclick=\"convertToInteractive('df-14a68f4f-6563-471d-9699-3cc67cb22ac1')\"\n",
              "            title=\"Convert this dataframe to an interactive table.\"\n",
              "            style=\"display:none;\">\n",
              "\n",
              "  <svg xmlns=\"http://www.w3.org/2000/svg\" height=\"24px\" viewBox=\"0 -960 960 960\">\n",
              "    <path d=\"M120-120v-720h720v720H120Zm60-500h600v-160H180v160Zm220 220h160v-160H400v160Zm0 220h160v-160H400v160ZM180-400h160v-160H180v160Zm440 0h160v-160H620v160ZM180-180h160v-160H180v160Zm440 0h160v-160H620v160Z\"/>\n",
              "  </svg>\n",
              "    </button>\n",
              "\n",
              "  <style>\n",
              "    .colab-df-container {\n",
              "      display:flex;\n",
              "      gap: 12px;\n",
              "    }\n",
              "\n",
              "    .colab-df-convert {\n",
              "      background-color: #E8F0FE;\n",
              "      border: none;\n",
              "      border-radius: 50%;\n",
              "      cursor: pointer;\n",
              "      display: none;\n",
              "      fill: #1967D2;\n",
              "      height: 32px;\n",
              "      padding: 0 0 0 0;\n",
              "      width: 32px;\n",
              "    }\n",
              "\n",
              "    .colab-df-convert:hover {\n",
              "      background-color: #E2EBFA;\n",
              "      box-shadow: 0px 1px 2px rgba(60, 64, 67, 0.3), 0px 1px 3px 1px rgba(60, 64, 67, 0.15);\n",
              "      fill: #174EA6;\n",
              "    }\n",
              "\n",
              "    .colab-df-buttons div {\n",
              "      margin-bottom: 4px;\n",
              "    }\n",
              "\n",
              "    [theme=dark] .colab-df-convert {\n",
              "      background-color: #3B4455;\n",
              "      fill: #D2E3FC;\n",
              "    }\n",
              "\n",
              "    [theme=dark] .colab-df-convert:hover {\n",
              "      background-color: #434B5C;\n",
              "      box-shadow: 0px 1px 3px 1px rgba(0, 0, 0, 0.15);\n",
              "      filter: drop-shadow(0px 1px 2px rgba(0, 0, 0, 0.3));\n",
              "      fill: #FFFFFF;\n",
              "    }\n",
              "  </style>\n",
              "\n",
              "    <script>\n",
              "      const buttonEl =\n",
              "        document.querySelector('#df-14a68f4f-6563-471d-9699-3cc67cb22ac1 button.colab-df-convert');\n",
              "      buttonEl.style.display =\n",
              "        google.colab.kernel.accessAllowed ? 'block' : 'none';\n",
              "\n",
              "      async function convertToInteractive(key) {\n",
              "        const element = document.querySelector('#df-14a68f4f-6563-471d-9699-3cc67cb22ac1');\n",
              "        const dataTable =\n",
              "          await google.colab.kernel.invokeFunction('convertToInteractive',\n",
              "                                                    [key], {});\n",
              "        if (!dataTable) return;\n",
              "\n",
              "        const docLinkHtml = 'Like what you see? Visit the ' +\n",
              "          '<a target=\"_blank\" href=https://colab.research.google.com/notebooks/data_table.ipynb>data table notebook</a>'\n",
              "          + ' to learn more about interactive tables.';\n",
              "        element.innerHTML = '';\n",
              "        dataTable['output_type'] = 'display_data';\n",
              "        await google.colab.output.renderOutput(dataTable, element);\n",
              "        const docLink = document.createElement('div');\n",
              "        docLink.innerHTML = docLinkHtml;\n",
              "        element.appendChild(docLink);\n",
              "      }\n",
              "    </script>\n",
              "  </div>\n",
              "\n",
              "\n",
              "    <div id=\"df-aa4ec8bf-509d-4e03-8a3b-11ddfba8030b\">\n",
              "      <button class=\"colab-df-quickchart\" onclick=\"quickchart('df-aa4ec8bf-509d-4e03-8a3b-11ddfba8030b')\"\n",
              "                title=\"Suggest charts\"\n",
              "                style=\"display:none;\">\n",
              "\n",
              "<svg xmlns=\"http://www.w3.org/2000/svg\" height=\"24px\"viewBox=\"0 0 24 24\"\n",
              "     width=\"24px\">\n",
              "    <g>\n",
              "        <path d=\"M19 3H5c-1.1 0-2 .9-2 2v14c0 1.1.9 2 2 2h14c1.1 0 2-.9 2-2V5c0-1.1-.9-2-2-2zM9 17H7v-7h2v7zm4 0h-2V7h2v10zm4 0h-2v-4h2v4z\"/>\n",
              "    </g>\n",
              "</svg>\n",
              "      </button>\n",
              "\n",
              "<style>\n",
              "  .colab-df-quickchart {\n",
              "      --bg-color: #E8F0FE;\n",
              "      --fill-color: #1967D2;\n",
              "      --hover-bg-color: #E2EBFA;\n",
              "      --hover-fill-color: #174EA6;\n",
              "      --disabled-fill-color: #AAA;\n",
              "      --disabled-bg-color: #DDD;\n",
              "  }\n",
              "\n",
              "  [theme=dark] .colab-df-quickchart {\n",
              "      --bg-color: #3B4455;\n",
              "      --fill-color: #D2E3FC;\n",
              "      --hover-bg-color: #434B5C;\n",
              "      --hover-fill-color: #FFFFFF;\n",
              "      --disabled-bg-color: #3B4455;\n",
              "      --disabled-fill-color: #666;\n",
              "  }\n",
              "\n",
              "  .colab-df-quickchart {\n",
              "    background-color: var(--bg-color);\n",
              "    border: none;\n",
              "    border-radius: 50%;\n",
              "    cursor: pointer;\n",
              "    display: none;\n",
              "    fill: var(--fill-color);\n",
              "    height: 32px;\n",
              "    padding: 0;\n",
              "    width: 32px;\n",
              "  }\n",
              "\n",
              "  .colab-df-quickchart:hover {\n",
              "    background-color: var(--hover-bg-color);\n",
              "    box-shadow: 0 1px 2px rgba(60, 64, 67, 0.3), 0 1px 3px 1px rgba(60, 64, 67, 0.15);\n",
              "    fill: var(--button-hover-fill-color);\n",
              "  }\n",
              "\n",
              "  .colab-df-quickchart-complete:disabled,\n",
              "  .colab-df-quickchart-complete:disabled:hover {\n",
              "    background-color: var(--disabled-bg-color);\n",
              "    fill: var(--disabled-fill-color);\n",
              "    box-shadow: none;\n",
              "  }\n",
              "\n",
              "  .colab-df-spinner {\n",
              "    border: 2px solid var(--fill-color);\n",
              "    border-color: transparent;\n",
              "    border-bottom-color: var(--fill-color);\n",
              "    animation:\n",
              "      spin 1s steps(1) infinite;\n",
              "  }\n",
              "\n",
              "  @keyframes spin {\n",
              "    0% {\n",
              "      border-color: transparent;\n",
              "      border-bottom-color: var(--fill-color);\n",
              "      border-left-color: var(--fill-color);\n",
              "    }\n",
              "    20% {\n",
              "      border-color: transparent;\n",
              "      border-left-color: var(--fill-color);\n",
              "      border-top-color: var(--fill-color);\n",
              "    }\n",
              "    30% {\n",
              "      border-color: transparent;\n",
              "      border-left-color: var(--fill-color);\n",
              "      border-top-color: var(--fill-color);\n",
              "      border-right-color: var(--fill-color);\n",
              "    }\n",
              "    40% {\n",
              "      border-color: transparent;\n",
              "      border-right-color: var(--fill-color);\n",
              "      border-top-color: var(--fill-color);\n",
              "    }\n",
              "    60% {\n",
              "      border-color: transparent;\n",
              "      border-right-color: var(--fill-color);\n",
              "    }\n",
              "    80% {\n",
              "      border-color: transparent;\n",
              "      border-right-color: var(--fill-color);\n",
              "      border-bottom-color: var(--fill-color);\n",
              "    }\n",
              "    90% {\n",
              "      border-color: transparent;\n",
              "      border-bottom-color: var(--fill-color);\n",
              "    }\n",
              "  }\n",
              "</style>\n",
              "\n",
              "      <script>\n",
              "        async function quickchart(key) {\n",
              "          const quickchartButtonEl =\n",
              "            document.querySelector('#' + key + ' button');\n",
              "          quickchartButtonEl.disabled = true;  // To prevent multiple clicks.\n",
              "          quickchartButtonEl.classList.add('colab-df-spinner');\n",
              "          try {\n",
              "            const charts = await google.colab.kernel.invokeFunction(\n",
              "                'suggestCharts', [key], {});\n",
              "          } catch (error) {\n",
              "            console.error('Error during call to suggestCharts:', error);\n",
              "          }\n",
              "          quickchartButtonEl.classList.remove('colab-df-spinner');\n",
              "          quickchartButtonEl.classList.add('colab-df-quickchart-complete');\n",
              "        }\n",
              "        (() => {\n",
              "          let quickchartButtonEl =\n",
              "            document.querySelector('#df-aa4ec8bf-509d-4e03-8a3b-11ddfba8030b button');\n",
              "          quickchartButtonEl.style.display =\n",
              "            google.colab.kernel.accessAllowed ? 'block' : 'none';\n",
              "        })();\n",
              "      </script>\n",
              "    </div>\n",
              "\n",
              "  <div id=\"id_ace3567b-7f35-48cb-bfd6-04fe84ac6ecb\">\n",
              "    <style>\n",
              "      .colab-df-generate {\n",
              "        background-color: #E8F0FE;\n",
              "        border: none;\n",
              "        border-radius: 50%;\n",
              "        cursor: pointer;\n",
              "        display: none;\n",
              "        fill: #1967D2;\n",
              "        height: 32px;\n",
              "        padding: 0 0 0 0;\n",
              "        width: 32px;\n",
              "      }\n",
              "\n",
              "      .colab-df-generate:hover {\n",
              "        background-color: #E2EBFA;\n",
              "        box-shadow: 0px 1px 2px rgba(60, 64, 67, 0.3), 0px 1px 3px 1px rgba(60, 64, 67, 0.15);\n",
              "        fill: #174EA6;\n",
              "      }\n",
              "\n",
              "      [theme=dark] .colab-df-generate {\n",
              "        background-color: #3B4455;\n",
              "        fill: #D2E3FC;\n",
              "      }\n",
              "\n",
              "      [theme=dark] .colab-df-generate:hover {\n",
              "        background-color: #434B5C;\n",
              "        box-shadow: 0px 1px 3px 1px rgba(0, 0, 0, 0.15);\n",
              "        filter: drop-shadow(0px 1px 2px rgba(0, 0, 0, 0.3));\n",
              "        fill: #FFFFFF;\n",
              "      }\n",
              "    </style>\n",
              "    <button class=\"colab-df-generate\" onclick=\"generateWithVariable('df')\"\n",
              "            title=\"Generate code using this dataframe.\"\n",
              "            style=\"display:none;\">\n",
              "\n",
              "  <svg xmlns=\"http://www.w3.org/2000/svg\" height=\"24px\"viewBox=\"0 0 24 24\"\n",
              "       width=\"24px\">\n",
              "    <path d=\"M7,19H8.4L18.45,9,17,7.55,7,17.6ZM5,21V16.75L18.45,3.32a2,2,0,0,1,2.83,0l1.4,1.43a1.91,1.91,0,0,1,.58,1.4,1.91,1.91,0,0,1-.58,1.4L9.25,21ZM18.45,9,17,7.55Zm-12,3A5.31,5.31,0,0,0,4.9,8.1,5.31,5.31,0,0,0,1,6.5,5.31,5.31,0,0,0,4.9,4.9,5.31,5.31,0,0,0,6.5,1,5.31,5.31,0,0,0,8.1,4.9,5.31,5.31,0,0,0,12,6.5,5.46,5.46,0,0,0,6.5,12Z\"/>\n",
              "  </svg>\n",
              "    </button>\n",
              "    <script>\n",
              "      (() => {\n",
              "      const buttonEl =\n",
              "        document.querySelector('#id_ace3567b-7f35-48cb-bfd6-04fe84ac6ecb button.colab-df-generate');\n",
              "      buttonEl.style.display =\n",
              "        google.colab.kernel.accessAllowed ? 'block' : 'none';\n",
              "\n",
              "      buttonEl.onclick = () => {\n",
              "        google.colab.notebook.generateWithVariable('df');\n",
              "      }\n",
              "      })();\n",
              "    </script>\n",
              "  </div>\n",
              "\n",
              "    </div>\n",
              "  </div>\n"
            ],
            "application/vnd.google.colaboratory.intrinsic+json": {
              "type": "dataframe",
              "variable_name": "df",
              "summary": "{\n  \"name\": \"df\",\n  \"rows\": 9,\n  \"fields\": [\n    {\n      \"column\": \"Tour name\",\n      \"properties\": {\n        \"dtype\": \"string\",\n        \"num_unique_values\": 9,\n        \"samples\": [\n          \"Renaissance Safari\",\n          \"Untamed Safari\",\n          \"Artisan Safari\"\n        ],\n        \"semantic_type\": \"\",\n        \"description\": \"\"\n      }\n    },\n    {\n      \"column\": \"Destination\",\n      \"properties\": {\n        \"dtype\": \"string\",\n        \"num_unique_values\": 9,\n        \"samples\": [\n          \"Samburu NP\",\n          \"Maasai Mara\",\n          \"Amboseli Ranges\"\n        ],\n        \"semantic_type\": \"\",\n        \"description\": \"\"\n      }\n    },\n    {\n      \"column\": \"Accomodation\",\n      \"properties\": {\n        \"dtype\": \"string\",\n        \"num_unique_values\": 7,\n        \"samples\": [\n          \"Spring Hotel\",\n          \"Blue Lodge\",\n          \"Well Lodge\"\n        ],\n        \"semantic_type\": \"\",\n        \"description\": \"\"\n      }\n    },\n    {\n      \"column\": \"Transport\",\n      \"properties\": {\n        \"dtype\": \"category\",\n        \"num_unique_values\": 4,\n        \"samples\": [\n          \"Plane\",\n          \"Tour Van\",\n          \"Train\"\n        ],\n        \"semantic_type\": \"\",\n        \"description\": \"\"\n      }\n    },\n    {\n      \"column\": \"Includes\",\n      \"properties\": {\n        \"dtype\": \"string\",\n        \"num_unique_values\": 9,\n        \"samples\": [\n          \"Game drives,Private Guide\",\n          \"Game drives, Meals, Park fees,Private Guide\",\n          \"Hiking\"\n        ],\n        \"semantic_type\": \"\",\n        \"description\": \"\"\n      }\n    },\n    {\n      \"column\": \"Cost(KSH)\",\n      \"properties\": {\n        \"dtype\": \"number\",\n        \"std\": 2603,\n        \"min\": 8000,\n        \"max\": 15000,\n        \"num_unique_values\": 8,\n        \"samples\": [\n          15000,\n          14000,\n          10000\n        ],\n        \"semantic_type\": \"\",\n        \"description\": \"\"\n      }\n    },\n    {\n      \"column\": \"People\",\n      \"properties\": {\n        \"dtype\": \"number\",\n        \"std\": 3,\n        \"min\": 3,\n        \"max\": 11,\n        \"num_unique_values\": 8,\n        \"samples\": [\n          5,\n          11,\n          10\n        ],\n        \"semantic_type\": \"\",\n        \"description\": \"\"\n      }\n    },\n    {\n      \"column\": \"Price per Person\",\n      \"properties\": {\n        \"dtype\": \"number\",\n        \"std\": 1252,\n        \"min\": 1000,\n        \"max\": 5000,\n        \"num_unique_values\": 5,\n        \"samples\": [\n          3000,\n          1500,\n          5000\n        ],\n        \"semantic_type\": \"\",\n        \"description\": \"\"\n      }\n    }\n  ]\n}"
            }
          },
          "metadata": {},
          "execution_count": 4
        }
      ]
    },
    {
      "cell_type": "code",
      "source": [
        "df.describe()"
      ],
      "metadata": {
        "colab": {
          "base_uri": "https://localhost:8080/",
          "height": 300
        },
        "id": "u_iQjbWSyicc",
        "outputId": "a1bb1c44-46ba-4066-c61c-ec7a2d5fadb2"
      },
      "execution_count": null,
      "outputs": [
        {
          "output_type": "execute_result",
          "data": {
            "text/plain": [
              "          Cost(KSH)     People  Price per Person\n",
              "count      9.000000   9.000000          9.000000\n",
              "mean   11944.444444   6.444444       2277.777778\n",
              "std     2603.416559   3.004626       1252.774698\n",
              "min     8000.000000   3.000000       1000.000000\n",
              "25%    10000.000000   4.000000       1500.000000\n",
              "50%    12000.000000   6.000000       2000.000000\n",
              "75%    14000.000000   9.000000       3000.000000\n",
              "max    15000.000000  11.000000       5000.000000"
            ],
            "text/html": [
              "\n",
              "  <div id=\"df-f20f9529-299c-4239-b9df-1ad66677265a\" class=\"colab-df-container\">\n",
              "    <div>\n",
              "<style scoped>\n",
              "    .dataframe tbody tr th:only-of-type {\n",
              "        vertical-align: middle;\n",
              "    }\n",
              "\n",
              "    .dataframe tbody tr th {\n",
              "        vertical-align: top;\n",
              "    }\n",
              "\n",
              "    .dataframe thead th {\n",
              "        text-align: right;\n",
              "    }\n",
              "</style>\n",
              "<table border=\"1\" class=\"dataframe\">\n",
              "  <thead>\n",
              "    <tr style=\"text-align: right;\">\n",
              "      <th></th>\n",
              "      <th>Cost(KSH)</th>\n",
              "      <th>People</th>\n",
              "      <th>Price per Person</th>\n",
              "    </tr>\n",
              "  </thead>\n",
              "  <tbody>\n",
              "    <tr>\n",
              "      <th>count</th>\n",
              "      <td>9.000000</td>\n",
              "      <td>9.000000</td>\n",
              "      <td>9.000000</td>\n",
              "    </tr>\n",
              "    <tr>\n",
              "      <th>mean</th>\n",
              "      <td>11944.444444</td>\n",
              "      <td>6.444444</td>\n",
              "      <td>2277.777778</td>\n",
              "    </tr>\n",
              "    <tr>\n",
              "      <th>std</th>\n",
              "      <td>2603.416559</td>\n",
              "      <td>3.004626</td>\n",
              "      <td>1252.774698</td>\n",
              "    </tr>\n",
              "    <tr>\n",
              "      <th>min</th>\n",
              "      <td>8000.000000</td>\n",
              "      <td>3.000000</td>\n",
              "      <td>1000.000000</td>\n",
              "    </tr>\n",
              "    <tr>\n",
              "      <th>25%</th>\n",
              "      <td>10000.000000</td>\n",
              "      <td>4.000000</td>\n",
              "      <td>1500.000000</td>\n",
              "    </tr>\n",
              "    <tr>\n",
              "      <th>50%</th>\n",
              "      <td>12000.000000</td>\n",
              "      <td>6.000000</td>\n",
              "      <td>2000.000000</td>\n",
              "    </tr>\n",
              "    <tr>\n",
              "      <th>75%</th>\n",
              "      <td>14000.000000</td>\n",
              "      <td>9.000000</td>\n",
              "      <td>3000.000000</td>\n",
              "    </tr>\n",
              "    <tr>\n",
              "      <th>max</th>\n",
              "      <td>15000.000000</td>\n",
              "      <td>11.000000</td>\n",
              "      <td>5000.000000</td>\n",
              "    </tr>\n",
              "  </tbody>\n",
              "</table>\n",
              "</div>\n",
              "    <div class=\"colab-df-buttons\">\n",
              "\n",
              "  <div class=\"colab-df-container\">\n",
              "    <button class=\"colab-df-convert\" onclick=\"convertToInteractive('df-f20f9529-299c-4239-b9df-1ad66677265a')\"\n",
              "            title=\"Convert this dataframe to an interactive table.\"\n",
              "            style=\"display:none;\">\n",
              "\n",
              "  <svg xmlns=\"http://www.w3.org/2000/svg\" height=\"24px\" viewBox=\"0 -960 960 960\">\n",
              "    <path d=\"M120-120v-720h720v720H120Zm60-500h600v-160H180v160Zm220 220h160v-160H400v160Zm0 220h160v-160H400v160ZM180-400h160v-160H180v160Zm440 0h160v-160H620v160ZM180-180h160v-160H180v160Zm440 0h160v-160H620v160Z\"/>\n",
              "  </svg>\n",
              "    </button>\n",
              "\n",
              "  <style>\n",
              "    .colab-df-container {\n",
              "      display:flex;\n",
              "      gap: 12px;\n",
              "    }\n",
              "\n",
              "    .colab-df-convert {\n",
              "      background-color: #E8F0FE;\n",
              "      border: none;\n",
              "      border-radius: 50%;\n",
              "      cursor: pointer;\n",
              "      display: none;\n",
              "      fill: #1967D2;\n",
              "      height: 32px;\n",
              "      padding: 0 0 0 0;\n",
              "      width: 32px;\n",
              "    }\n",
              "\n",
              "    .colab-df-convert:hover {\n",
              "      background-color: #E2EBFA;\n",
              "      box-shadow: 0px 1px 2px rgba(60, 64, 67, 0.3), 0px 1px 3px 1px rgba(60, 64, 67, 0.15);\n",
              "      fill: #174EA6;\n",
              "    }\n",
              "\n",
              "    .colab-df-buttons div {\n",
              "      margin-bottom: 4px;\n",
              "    }\n",
              "\n",
              "    [theme=dark] .colab-df-convert {\n",
              "      background-color: #3B4455;\n",
              "      fill: #D2E3FC;\n",
              "    }\n",
              "\n",
              "    [theme=dark] .colab-df-convert:hover {\n",
              "      background-color: #434B5C;\n",
              "      box-shadow: 0px 1px 3px 1px rgba(0, 0, 0, 0.15);\n",
              "      filter: drop-shadow(0px 1px 2px rgba(0, 0, 0, 0.3));\n",
              "      fill: #FFFFFF;\n",
              "    }\n",
              "  </style>\n",
              "\n",
              "    <script>\n",
              "      const buttonEl =\n",
              "        document.querySelector('#df-f20f9529-299c-4239-b9df-1ad66677265a button.colab-df-convert');\n",
              "      buttonEl.style.display =\n",
              "        google.colab.kernel.accessAllowed ? 'block' : 'none';\n",
              "\n",
              "      async function convertToInteractive(key) {\n",
              "        const element = document.querySelector('#df-f20f9529-299c-4239-b9df-1ad66677265a');\n",
              "        const dataTable =\n",
              "          await google.colab.kernel.invokeFunction('convertToInteractive',\n",
              "                                                    [key], {});\n",
              "        if (!dataTable) return;\n",
              "\n",
              "        const docLinkHtml = 'Like what you see? Visit the ' +\n",
              "          '<a target=\"_blank\" href=https://colab.research.google.com/notebooks/data_table.ipynb>data table notebook</a>'\n",
              "          + ' to learn more about interactive tables.';\n",
              "        element.innerHTML = '';\n",
              "        dataTable['output_type'] = 'display_data';\n",
              "        await google.colab.output.renderOutput(dataTable, element);\n",
              "        const docLink = document.createElement('div');\n",
              "        docLink.innerHTML = docLinkHtml;\n",
              "        element.appendChild(docLink);\n",
              "      }\n",
              "    </script>\n",
              "  </div>\n",
              "\n",
              "\n",
              "    <div id=\"df-ccf36c2f-843e-4f85-8c32-c7f0ce5d93c8\">\n",
              "      <button class=\"colab-df-quickchart\" onclick=\"quickchart('df-ccf36c2f-843e-4f85-8c32-c7f0ce5d93c8')\"\n",
              "                title=\"Suggest charts\"\n",
              "                style=\"display:none;\">\n",
              "\n",
              "<svg xmlns=\"http://www.w3.org/2000/svg\" height=\"24px\"viewBox=\"0 0 24 24\"\n",
              "     width=\"24px\">\n",
              "    <g>\n",
              "        <path d=\"M19 3H5c-1.1 0-2 .9-2 2v14c0 1.1.9 2 2 2h14c1.1 0 2-.9 2-2V5c0-1.1-.9-2-2-2zM9 17H7v-7h2v7zm4 0h-2V7h2v10zm4 0h-2v-4h2v4z\"/>\n",
              "    </g>\n",
              "</svg>\n",
              "      </button>\n",
              "\n",
              "<style>\n",
              "  .colab-df-quickchart {\n",
              "      --bg-color: #E8F0FE;\n",
              "      --fill-color: #1967D2;\n",
              "      --hover-bg-color: #E2EBFA;\n",
              "      --hover-fill-color: #174EA6;\n",
              "      --disabled-fill-color: #AAA;\n",
              "      --disabled-bg-color: #DDD;\n",
              "  }\n",
              "\n",
              "  [theme=dark] .colab-df-quickchart {\n",
              "      --bg-color: #3B4455;\n",
              "      --fill-color: #D2E3FC;\n",
              "      --hover-bg-color: #434B5C;\n",
              "      --hover-fill-color: #FFFFFF;\n",
              "      --disabled-bg-color: #3B4455;\n",
              "      --disabled-fill-color: #666;\n",
              "  }\n",
              "\n",
              "  .colab-df-quickchart {\n",
              "    background-color: var(--bg-color);\n",
              "    border: none;\n",
              "    border-radius: 50%;\n",
              "    cursor: pointer;\n",
              "    display: none;\n",
              "    fill: var(--fill-color);\n",
              "    height: 32px;\n",
              "    padding: 0;\n",
              "    width: 32px;\n",
              "  }\n",
              "\n",
              "  .colab-df-quickchart:hover {\n",
              "    background-color: var(--hover-bg-color);\n",
              "    box-shadow: 0 1px 2px rgba(60, 64, 67, 0.3), 0 1px 3px 1px rgba(60, 64, 67, 0.15);\n",
              "    fill: var(--button-hover-fill-color);\n",
              "  }\n",
              "\n",
              "  .colab-df-quickchart-complete:disabled,\n",
              "  .colab-df-quickchart-complete:disabled:hover {\n",
              "    background-color: var(--disabled-bg-color);\n",
              "    fill: var(--disabled-fill-color);\n",
              "    box-shadow: none;\n",
              "  }\n",
              "\n",
              "  .colab-df-spinner {\n",
              "    border: 2px solid var(--fill-color);\n",
              "    border-color: transparent;\n",
              "    border-bottom-color: var(--fill-color);\n",
              "    animation:\n",
              "      spin 1s steps(1) infinite;\n",
              "  }\n",
              "\n",
              "  @keyframes spin {\n",
              "    0% {\n",
              "      border-color: transparent;\n",
              "      border-bottom-color: var(--fill-color);\n",
              "      border-left-color: var(--fill-color);\n",
              "    }\n",
              "    20% {\n",
              "      border-color: transparent;\n",
              "      border-left-color: var(--fill-color);\n",
              "      border-top-color: var(--fill-color);\n",
              "    }\n",
              "    30% {\n",
              "      border-color: transparent;\n",
              "      border-left-color: var(--fill-color);\n",
              "      border-top-color: var(--fill-color);\n",
              "      border-right-color: var(--fill-color);\n",
              "    }\n",
              "    40% {\n",
              "      border-color: transparent;\n",
              "      border-right-color: var(--fill-color);\n",
              "      border-top-color: var(--fill-color);\n",
              "    }\n",
              "    60% {\n",
              "      border-color: transparent;\n",
              "      border-right-color: var(--fill-color);\n",
              "    }\n",
              "    80% {\n",
              "      border-color: transparent;\n",
              "      border-right-color: var(--fill-color);\n",
              "      border-bottom-color: var(--fill-color);\n",
              "    }\n",
              "    90% {\n",
              "      border-color: transparent;\n",
              "      border-bottom-color: var(--fill-color);\n",
              "    }\n",
              "  }\n",
              "</style>\n",
              "\n",
              "      <script>\n",
              "        async function quickchart(key) {\n",
              "          const quickchartButtonEl =\n",
              "            document.querySelector('#' + key + ' button');\n",
              "          quickchartButtonEl.disabled = true;  // To prevent multiple clicks.\n",
              "          quickchartButtonEl.classList.add('colab-df-spinner');\n",
              "          try {\n",
              "            const charts = await google.colab.kernel.invokeFunction(\n",
              "                'suggestCharts', [key], {});\n",
              "          } catch (error) {\n",
              "            console.error('Error during call to suggestCharts:', error);\n",
              "          }\n",
              "          quickchartButtonEl.classList.remove('colab-df-spinner');\n",
              "          quickchartButtonEl.classList.add('colab-df-quickchart-complete');\n",
              "        }\n",
              "        (() => {\n",
              "          let quickchartButtonEl =\n",
              "            document.querySelector('#df-ccf36c2f-843e-4f85-8c32-c7f0ce5d93c8 button');\n",
              "          quickchartButtonEl.style.display =\n",
              "            google.colab.kernel.accessAllowed ? 'block' : 'none';\n",
              "        })();\n",
              "      </script>\n",
              "    </div>\n",
              "\n",
              "    </div>\n",
              "  </div>\n"
            ],
            "application/vnd.google.colaboratory.intrinsic+json": {
              "type": "dataframe",
              "summary": "{\n  \"name\": \"df\",\n  \"rows\": 8,\n  \"fields\": [\n    {\n      \"column\": \"Cost(KSH)\",\n      \"properties\": {\n        \"dtype\": \"number\",\n        \"std\": 5373.494962523974,\n        \"min\": 9.0,\n        \"max\": 15000.0,\n        \"num_unique_values\": 8,\n        \"samples\": [\n          11944.444444444445,\n          12000.0,\n          9.0\n        ],\n        \"semantic_type\": \"\",\n        \"description\": \"\"\n      }\n    },\n    {\n      \"column\": \"People\",\n      \"properties\": {\n        \"dtype\": \"number\",\n        \"std\": 3.0162129748308972,\n        \"min\": 3.0,\n        \"max\": 11.0,\n        \"num_unique_values\": 7,\n        \"samples\": [\n          9.0,\n          6.444444444444445,\n          6.0\n        ],\n        \"semantic_type\": \"\",\n        \"description\": \"\"\n      }\n    },\n    {\n      \"column\": \"Price per Person\",\n      \"properties\": {\n        \"dtype\": \"number\",\n        \"std\": 1504.7254897102453,\n        \"min\": 9.0,\n        \"max\": 5000.0,\n        \"num_unique_values\": 8,\n        \"samples\": [\n          2277.777777777778,\n          2000.0,\n          9.0\n        ],\n        \"semantic_type\": \"\",\n        \"description\": \"\"\n      }\n    }\n  ]\n}"
            }
          },
          "metadata": {},
          "execution_count": 2
        }
      ]
    },
    {
      "cell_type": "markdown",
      "source": [
        "**1) COST OF THE TRIPS IN KSH**"
      ],
      "metadata": {
        "id": "nSySSHwWCDYT"
      }
    },
    {
      "cell_type": "markdown",
      "source": [
        "**BOX AND WHISKER PLOT**"
      ],
      "metadata": {
        "id": "ma0CuRZnAW68"
      }
    },
    {
      "cell_type": "code",
      "source": [
        "import matplotlib.pyplot as plt\n",
        "import seaborn as sns\n",
        "plt.boxplot(df['Cost(KSH)'])\n",
        "plt.title('Cost in Kenyan Shillings')\n",
        "plt.ylabel('Cost in Ksh')\n",
        "plt.show()"
      ],
      "metadata": {
        "colab": {
          "base_uri": "https://localhost:8080/",
          "height": 452
        },
        "id": "4-o_U9XCyj3b",
        "outputId": "9c2df1d0-2426-45e9-e2be-413c2633f68c"
      },
      "execution_count": null,
      "outputs": [
        {
          "output_type": "display_data",
          "data": {
            "text/plain": [
              "<Figure size 640x480 with 1 Axes>"
            ],
            "image/png": "[encoded data removed]"
          },
          "metadata": {}
        }
      ]
    },
    {
      "cell_type": "markdown",
      "source": [
        "**SEABORN VERSION**"
      ],
      "metadata": {
        "id": "xrWPGYaYJF4s"
      }
    },
    {
      "cell_type": "code",
      "source": [
        "sns.boxplot(x=df['Cost(KSH)'])\n",
        "plt.title('Cost in Kenyan Shillings')\n",
        "plt.show()"
      ],
      "metadata": {
        "colab": {
          "base_uri": "https://localhost:8080/",
          "height": 472
        },
        "id": "KZ2P4LWDIl3Y",
        "outputId": "5c885163-d7c4-417f-94d9-c0991f679b26"
      },
      "execution_count": null,
      "outputs": [
        {
          "output_type": "display_data",
          "data": {
            "text/plain": [
              "<Figure size 640x480 with 1 Axes>"
            ],
            "image/png": "[encoded data removed]"
          },
          "metadata": {}
        }
      ]
    },
    {
      "cell_type": "markdown",
      "source": [
        "**2) MODES OF TRANSPORT**"
      ],
      "metadata": {
        "id": "5lK3JaPiLAUT"
      }
    },
    {
      "cell_type": "markdown",
      "source": [
        "**HISTOGRAM**"
      ],
      "metadata": {
        "id": "EupwFi9sARXn"
      }
    },
    {
      "cell_type": "code",
      "source": [
        "df['Transport'].value_counts() #makes it easy to find the frequencies for each value."
      ],
      "metadata": {
        "colab": {
          "base_uri": "https://localhost:8080/",
          "height": 241
        },
        "id": "Bl2S12CL3BwP",
        "outputId": "b0da8f84-3df6-4f0e-a58c-bce24202439f"
      },
      "execution_count": null,
      "outputs": [
        {
          "output_type": "execute_result",
          "data": {
            "text/plain": [
              "Transport\n",
              "Plane       3\n",
              "Tour Van    3\n",
              "Train       2\n",
              "Cruise      1\n",
              "Name: count, dtype: int64"
            ],
            "text/html": [
              "<div>\n",
              "<style scoped>\n",
              "    .dataframe tbody tr th:only-of-type {\n",
              "        vertical-align: middle;\n",
              "    }\n",
              "\n",
              "    .dataframe tbody tr th {\n",
              "        vertical-align: top;\n",
              "    }\n",
              "\n",
              "    .dataframe thead th {\n",
              "        text-align: right;\n",
              "    }\n",
              "</style>\n",
              "<table border=\"1\" class=\"dataframe\">\n",
              "  <thead>\n",
              "    <tr style=\"text-align: right;\">\n",
              "      <th></th>\n",
              "      <th>count</th>\n",
              "    </tr>\n",
              "    <tr>\n",
              "      <th>Transport</th>\n",
              "      <th></th>\n",
              "    </tr>\n",
              "  </thead>\n",
              "  <tbody>\n",
              "    <tr>\n",
              "      <th>Plane</th>\n",
              "      <td>3</td>\n",
              "    </tr>\n",
              "    <tr>\n",
              "      <th>Tour Van</th>\n",
              "      <td>3</td>\n",
              "    </tr>\n",
              "    <tr>\n",
              "      <th>Train</th>\n",
              "      <td>2</td>\n",
              "    </tr>\n",
              "    <tr>\n",
              "      <th>Cruise</th>\n",
              "      <td>1</td>\n",
              "    </tr>\n",
              "  </tbody>\n",
              "</table>\n",
              "</div><br><label><b>dtype:</b> int64</label>"
            ]
          },
          "metadata": {},
          "execution_count": 25
        }
      ]
    },
    {
      "cell_type": "code",
      "source": [
        "plt.hist(df['Transport'])\n",
        "plt.title('Modes of Transport')\n",
        "plt.xlabel('Transport')\n",
        "plt.ylabel('Frequency')\n",
        "plt.show()"
      ],
      "metadata": {
        "colab": {
          "base_uri": "https://localhost:8080/",
          "height": 472
        },
        "id": "rpb2uhhazfIo",
        "outputId": "bbd62ab4-9b69-481f-edf6-61f87b7b6445"
      },
      "execution_count": null,
      "outputs": [
        {
          "output_type": "display_data",
          "data": {
            "text/plain": [
              "<Figure size 640x480 with 1 Axes>"
            ],
            "image/png": "[encoded data removed]"
          },
          "metadata": {}
        }
      ]
    },
    {
      "cell_type": "markdown",
      "source": [
        "**SEABORN VERSION**"
      ],
      "metadata": {
        "id": "oABjmZ2NIUUg"
      }
    },
    {
      "cell_type": "code",
      "source": [
        "sns.histplot(x='Transport', data=df, hue= \"Transport\")\n",
        "plt.title('Modes of Transport')\n",
        "plt.xlabel('Transport')\n",
        "plt.ylabel('Frequency')\n",
        "plt.show()"
      ],
      "metadata": {
        "colab": {
          "base_uri": "https://localhost:8080/",
          "height": 472
        },
        "id": "PL8gmdFNHPXR",
        "outputId": "dde33186-b9c9-4f5f-d06c-3205bff1f3d5"
      },
      "execution_count": null,
      "outputs": [
        {
          "output_type": "display_data",
          "data": {
            "text/plain": [
              "<Figure size 640x480 with 1 Axes>"
            ],
            "image/png": "[encoded data removed]"
          },
          "metadata": {}
        }
      ]
    },
    {
      "cell_type": "markdown",
      "source": [
        "**Conclusion: Plane & Tour Van are the most common means of transports for Tour Companies.**"
      ],
      "metadata": {
        "id": "vf_z-P7vLkV-"
      }
    },
    {
      "cell_type": "markdown",
      "source": [
        "**3) PEOPLE VS PRICE PER PERSON**"
      ],
      "metadata": {
        "id": "QZ0U30ciB4wB"
      }
    },
    {
      "cell_type": "markdown",
      "source": [
        "**SCATTER PLOT**"
      ],
      "metadata": {
        "id": "J43uTev7AnYy"
      }
    },
    {
      "cell_type": "code",
      "source": [
        "plt.scatter(df['People'], df['Price per Person'])\n",
        "plt.title('People vs Price per Person')\n",
        "plt.xlabel('People')\n",
        "plt.ylabel('Price per Person (KSH)')\n",
        "plt.locator_params(axis='y', nbins=5) #i want 5 labels in my y-axis\n",
        "plt.show()"
      ],
      "metadata": {
        "colab": {
          "base_uri": "https://localhost:8080/",
          "height": 472
        },
        "id": "b_F8GvTP5udX",
        "outputId": "b4bb0c64-ecee-441d-e4b3-e6a312f97073"
      },
      "execution_count": null,
      "outputs": [
        {
          "output_type": "display_data",
          "data": {
            "text/plain": [
              "<Figure size 640x480 with 1 Axes>"
            ],
            "image/png": "[encoded data removed]"
          },
          "metadata": {}
        }
      ]
    },
    {
      "cell_type": "markdown",
      "source": [
        "**LINE OF BEST FIT** (to see if the scatter plot is positively/negatively correlated)"
      ],
      "metadata": {
        "id": "WXEYE3cg-IiR"
      }
    },
    {
      "cell_type": "code",
      "source": [
        "x = df['People']\n",
        "x"
      ],
      "metadata": {
        "colab": {
          "base_uri": "https://localhost:8080/",
          "height": 366
        },
        "outputId": "901401ba-a32c-453a-c235-21654b5c5ef9",
        "id": "gs_5RS-y-PFd"
      },
      "execution_count": null,
      "outputs": [
        {
          "output_type": "execute_result",
          "data": {
            "text/plain": [
              "0    10\n",
              "1     5\n",
              "2     3\n",
              "3     6\n",
              "4     9\n",
              "5    11\n",
              "6     7\n",
              "7     3\n",
              "8     4\n",
              "Name: People, dtype: int64"
            ],
            "text/html": [
              "<div>\n",
              "<style scoped>\n",
              "    .dataframe tbody tr th:only-of-type {\n",
              "        vertical-align: middle;\n",
              "    }\n",
              "\n",
              "    .dataframe tbody tr th {\n",
              "        vertical-align: top;\n",
              "    }\n",
              "\n",
              "    .dataframe thead th {\n",
              "        text-align: right;\n",
              "    }\n",
              "</style>\n",
              "<table border=\"1\" class=\"dataframe\">\n",
              "  <thead>\n",
              "    <tr style=\"text-align: right;\">\n",
              "      <th></th>\n",
              "      <th>People</th>\n",
              "    </tr>\n",
              "  </thead>\n",
              "  <tbody>\n",
              "    <tr>\n",
              "      <th>0</th>\n",
              "      <td>10</td>\n",
              "    </tr>\n",
              "    <tr>\n",
              "      <th>1</th>\n",
              "      <td>5</td>\n",
              "    </tr>\n",
              "    <tr>\n",
              "      <th>2</th>\n",
              "      <td>3</td>\n",
              "    </tr>\n",
              "    <tr>\n",
              "      <th>3</th>\n",
              "      <td>6</td>\n",
              "    </tr>\n",
              "    <tr>\n",
              "      <th>4</th>\n",
              "      <td>9</td>\n",
              "    </tr>\n",
              "    <tr>\n",
              "      <th>5</th>\n",
              "      <td>11</td>\n",
              "    </tr>\n",
              "    <tr>\n",
              "      <th>6</th>\n",
              "      <td>7</td>\n",
              "    </tr>\n",
              "    <tr>\n",
              "      <th>7</th>\n",
              "      <td>3</td>\n",
              "    </tr>\n",
              "    <tr>\n",
              "      <th>8</th>\n",
              "      <td>4</td>\n",
              "    </tr>\n",
              "  </tbody>\n",
              "</table>\n",
              "</div><br><label><b>dtype:</b> int64</label>"
            ]
          },
          "metadata": {},
          "execution_count": 42
        }
      ]
    },
    {
      "cell_type": "code",
      "source": [
        "y = df['Price per Person']\n",
        "y"
      ],
      "metadata": {
        "colab": {
          "base_uri": "https://localhost:8080/",
          "height": 366
        },
        "outputId": "ddb4ba96-79b0-474b-b467-48532bd553dd",
        "id": "g4NCfyEv-TDX"
      },
      "execution_count": null,
      "outputs": [
        {
          "output_type": "execute_result",
          "data": {
            "text/plain": [
              "0    1000\n",
              "1    3000\n",
              "2    5000\n",
              "3    2000\n",
              "4    1500\n",
              "5    1000\n",
              "6    2000\n",
              "7    3000\n",
              "8    2000\n",
              "Name: Price per Person, dtype: int64"
            ],
            "text/html": [
              "<div>\n",
              "<style scoped>\n",
              "    .dataframe tbody tr th:only-of-type {\n",
              "        vertical-align: middle;\n",
              "    }\n",
              "\n",
              "    .dataframe tbody tr th {\n",
              "        vertical-align: top;\n",
              "    }\n",
              "\n",
              "    .dataframe thead th {\n",
              "        text-align: right;\n",
              "    }\n",
              "</style>\n",
              "<table border=\"1\" class=\"dataframe\">\n",
              "  <thead>\n",
              "    <tr style=\"text-align: right;\">\n",
              "      <th></th>\n",
              "      <th>Price per Person</th>\n",
              "    </tr>\n",
              "  </thead>\n",
              "  <tbody>\n",
              "    <tr>\n",
              "      <th>0</th>\n",
              "      <td>1000</td>\n",
              "    </tr>\n",
              "    <tr>\n",
              "      <th>1</th>\n",
              "      <td>3000</td>\n",
              "    </tr>\n",
              "    <tr>\n",
              "      <th>2</th>\n",
              "      <td>5000</td>\n",
              "    </tr>\n",
              "    <tr>\n",
              "      <th>3</th>\n",
              "      <td>2000</td>\n",
              "    </tr>\n",
              "    <tr>\n",
              "      <th>4</th>\n",
              "      <td>1500</td>\n",
              "    </tr>\n",
              "    <tr>\n",
              "      <th>5</th>\n",
              "      <td>1000</td>\n",
              "    </tr>\n",
              "    <tr>\n",
              "      <th>6</th>\n",
              "      <td>2000</td>\n",
              "    </tr>\n",
              "    <tr>\n",
              "      <th>7</th>\n",
              "      <td>3000</td>\n",
              "    </tr>\n",
              "    <tr>\n",
              "      <th>8</th>\n",
              "      <td>2000</td>\n",
              "    </tr>\n",
              "  </tbody>\n",
              "</table>\n",
              "</div><br><label><b>dtype:</b> int64</label>"
            ]
          },
          "metadata": {},
          "execution_count": 43
        }
      ]
    },
    {
      "cell_type": "code",
      "source": [
        "import numpy as np\n",
        "\n",
        "gradient, intercept = np.polyfit(x, y, 1) #finding the coefficients of gradient and intercept to find the line of best fit.\n",
        "print(f\"the gradient is:\", {gradient})\n",
        "print(f\"the intercept is:\", {intercept})"
      ],
      "metadata": {
        "colab": {
          "base_uri": "https://localhost:8080/"
        },
        "id": "eGMJMWd0-VUa",
        "outputId": "acd8b7bf-073a-46a0-f612-4a933decef6d"
      },
      "execution_count": null,
      "outputs": [
        {
          "output_type": "stream",
          "name": "stdout",
          "text": [
            "the gradient is: {np.float64(-340.76923076923083)}\n",
            "the intercept is: {np.float64(4473.846153846153)}\n"
          ]
        }
      ]
    },
    {
      "cell_type": "code",
      "source": [
        "y_fit = gradient * x + intercept # finding the y-values for the line of best fit, remember y= mx+c\n",
        "y_fit"
      ],
      "metadata": {
        "colab": {
          "base_uri": "https://localhost:8080/",
          "height": 366
        },
        "id": "b1BWwHVn-hs4",
        "outputId": "b1bfd6d9-714f-48f8-dfee-2b8f09d2d5a3"
      },
      "execution_count": null,
      "outputs": [
        {
          "output_type": "execute_result",
          "data": {
            "text/plain": [
              "0    1066.153846\n",
              "1    2770.000000\n",
              "2    3451.538462\n",
              "3    2429.230769\n",
              "4    1406.923077\n",
              "5     725.384615\n",
              "6    2088.461538\n",
              "7    3451.538462\n",
              "8    3110.769231\n",
              "Name: People, dtype: float64"
            ],
            "text/html": [
              "<div>\n",
              "<style scoped>\n",
              "    .dataframe tbody tr th:only-of-type {\n",
              "        vertical-align: middle;\n",
              "    }\n",
              "\n",
              "    .dataframe tbody tr th {\n",
              "        vertical-align: top;\n",
              "    }\n",
              "\n",
              "    .dataframe thead th {\n",
              "        text-align: right;\n",
              "    }\n",
              "</style>\n",
              "<table border=\"1\" class=\"dataframe\">\n",
              "  <thead>\n",
              "    <tr style=\"text-align: right;\">\n",
              "      <th></th>\n",
              "      <th>People</th>\n",
              "    </tr>\n",
              "  </thead>\n",
              "  <tbody>\n",
              "    <tr>\n",
              "      <th>0</th>\n",
              "      <td>1066.153846</td>\n",
              "    </tr>\n",
              "    <tr>\n",
              "      <th>1</th>\n",
              "      <td>2770.000000</td>\n",
              "    </tr>\n",
              "    <tr>\n",
              "      <th>2</th>\n",
              "      <td>3451.538462</td>\n",
              "    </tr>\n",
              "    <tr>\n",
              "      <th>3</th>\n",
              "      <td>2429.230769</td>\n",
              "    </tr>\n",
              "    <tr>\n",
              "      <th>4</th>\n",
              "      <td>1406.923077</td>\n",
              "    </tr>\n",
              "    <tr>\n",
              "      <th>5</th>\n",
              "      <td>725.384615</td>\n",
              "    </tr>\n",
              "    <tr>\n",
              "      <th>6</th>\n",
              "      <td>2088.461538</td>\n",
              "    </tr>\n",
              "    <tr>\n",
              "      <th>7</th>\n",
              "      <td>3451.538462</td>\n",
              "    </tr>\n",
              "    <tr>\n",
              "      <th>8</th>\n",
              "      <td>3110.769231</td>\n",
              "    </tr>\n",
              "  </tbody>\n",
              "</table>\n",
              "</div><br><label><b>dtype:</b> float64</label>"
            ]
          },
          "metadata": {},
          "execution_count": 49
        }
      ]
    },
    {
      "cell_type": "markdown",
      "source": [
        "**NOW LETS SEE THE LINE OF BEST FIT WITH THE SCATTER PLOTS**"
      ],
      "metadata": {
        "id": "H0Rf4Rva_4Ev"
      }
    },
    {
      "cell_type": "code",
      "source": [
        "plt.scatter(df['People'], df['Price per Person'])\n",
        "plt.plot(x, y_fit, color='red')\n",
        "plt.title('People vs Price per Person')\n",
        "plt.xlabel('People')\n",
        "plt.ylabel('Price per Person (KSH)')\n",
        "plt.show()"
      ],
      "metadata": {
        "colab": {
          "base_uri": "https://localhost:8080/",
          "height": 472
        },
        "outputId": "8fe5b735-345c-43fd-a92b-c69ead9d8b02",
        "id": "ZHbRLEn0-uZB"
      },
      "execution_count": null,
      "outputs": [
        {
          "output_type": "display_data",
          "data": {
            "text/plain": [
              "<Figure size 640x480 with 1 Axes>"
            ],
            "image/png": "[encoded data removed]"
          },
          "metadata": {}
        }
      ]
    },
    {
      "cell_type": "markdown",
      "source": [
        "**CONCLUSION: The plot is negatively correlated and the relationship between People and Price per Person (KSH) is inversely proportional to each other, in other words, there are more people that tend to book trips with companies that offer lower prices than higher.**"
      ],
      "metadata": {
        "id": "qcqTueH3MqBA"
      }
    }
  ]
}